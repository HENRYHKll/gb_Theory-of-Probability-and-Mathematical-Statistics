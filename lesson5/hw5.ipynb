{
  "nbformat": 4,
  "nbformat_minor": 0,
  "metadata": {
    "colab": {
      "name": "hw5.ipynb",
      "provenance": []
    },
    "kernelspec": {
      "name": "python3",
      "display_name": "Python 3"
    },
    "language_info": {
      "name": "python"
    }
  },
  "cells": [
    {
      "cell_type": "markdown",
      "metadata": {
        "id": "9TIpi5ZF4pJi"
      },
      "source": [
        "# Урок 5. Проверка статистических гипотез. P-значения. Доверительные интервалы. A/B-тестирование"
      ]
    },
    {
      "cell_type": "markdown",
      "metadata": {
        "id": "EbEi3q384s9y"
      },
      "source": [
        "## 1. Известно, что генеральная совокупность распределена нормальносо средним квадратическим отклонением, равным 16. Найти доверительный интервал для оценки математического ожидания a с надежностью 0.95,если выборочная средняя M = 80, а объем выборки n = 256."
      ]
    },
    {
      "cell_type": "markdown",
      "metadata": {
        "id": "xywS0Bz7drOb"
      },
      "source": [
        "X +/-Za/2*b/sqr(n)"
      ]
    },
    {
      "cell_type": "code",
      "metadata": {
        "colab": {
          "base_uri": "https://localhost:8080/",
          "height": 35
        },
        "id": "H54KonWA4hrH",
        "outputId": "06164894-065c-4a04-997e-ef92fe44d016"
      },
      "source": [
        "a_1 = 0.05\n",
        "xl_1 = 80\n",
        "n_1= 256\n",
        "b_1 = 16\n",
        "\n",
        "Za2_1 = 1.96\n",
        "\n",
        "X_1_1 = 80 -(Za2_1*b_1/256**0.5)\n",
        "X_1_2 = 80 +(Za2_1*b_1/256**0.5)\n",
        "\n",
        "f'[{X_1_1} ; {X_1_2}]'"
      ],
      "execution_count": null,
      "outputs": [
        {
          "output_type": "execute_result",
          "data": {
            "application/vnd.google.colaboratory.intrinsic+json": {
              "type": "string"
            },
            "text/plain": [
              "'[78.04 ; 81.96]'"
            ]
          },
          "metadata": {},
          "execution_count": 8
        }
      ]
    },
    {
      "cell_type": "markdown",
      "metadata": {
        "id": "Pl5OUiaH4085"
      },
      "source": [
        "## 2. В результате 10 независимых измерений некоторой величины X, выполненных с одинаковой точностью, получены опытные данные: 6.9, 6.1, 6.2, 6.8, 7.5, 6.3, 6.4, 6.9, 6.7, 6.1 Предполагая, что результаты измерений подчинены нормальному закону распределения вероятностей, оценить истинное значение величины X при помощи доверительного интервала, покрывающего это значение с доверительной вероятностью 0,95"
      ]
    },
    {
      "cell_type": "code",
      "metadata": {
        "colab": {
          "base_uri": "https://localhost:8080/",
          "height": 35
        },
        "id": "ICe5y4k4stON",
        "outputId": "4d781c8e-8ed6-455d-9788-5620dce9e6bf"
      },
      "source": [
        "import numpy\n",
        "\n",
        "\n",
        "n_2 = 10\n",
        "a_2 = 0.05\n",
        "xl_2 = [6.9, 6.1, 6.2, 6.8, 7.5, 6.3, 6.4, 6.9, 6.7, 6.1]\n",
        "Za2_2 = 2.262\n",
        "b_2 = numpy.std(xl_2, ddof=1) \n",
        "\n",
        "X_2_1 = numpy.mean(xl_2) -(Za2_2*b_2/n_2**0.5)\n",
        "X_2_2 = numpy.mean(xl_2) +(Za2_2*b_2/n_2**0.5)\n",
        "\n",
        "f'[{X_2_1} ; {X_2_2}]'"
      ],
      "execution_count": null,
      "outputs": [
        {
          "output_type": "execute_result",
          "data": {
            "application/vnd.google.colaboratory.intrinsic+json": {
              "type": "string"
            },
            "text/plain": [
              "'[6.267538255912426 ; 6.912461744087575]'"
            ]
          },
          "metadata": {},
          "execution_count": 37
        }
      ]
    },
    {
      "cell_type": "markdown",
      "metadata": {
        "id": "pg5Pis7E5BR2"
      },
      "source": [
        "# РЕШАТЬ 3,4 ЗАДАЧИ ЧЕРЕЗ ТЕСТИРОВАНИЕ ГИПОТЕЗЫ\n",
        "## 3. Утверждается, что шарики для подшипников, изготовленные автоматическим станком, имеют средний диаметр 17 мм. Используя односторонний критерий с α=0,05, проверить эту гипотезу, если в выборке из n=100 шариков средний диаметр оказался равным 17.5 мм, а дисперсия известна и равна 4 кв. мм."
      ]
    },
    {
      "cell_type": "markdown",
      "metadata": {
        "id": "RYvPgcRI85Bj"
      },
      "source": [
        "## H0 : d = 17 , u = uo\n",
        "## H1 : d = 17.5 , u > uo верна\n"
      ]
    },
    {
      "cell_type": "code",
      "metadata": {
        "colab": {
          "base_uri": "https://localhost:8080/"
        },
        "id": "Gdxoh7ko8e91",
        "outputId": "0ad46778-4a63-4516-e384-146034026df9"
      },
      "source": [
        "a_3 = 0.05\n",
        "n_3 = 100\n",
        "b_3 = 2\n",
        "Zt_3 = 1.65\n",
        "u0_3 = 17\n",
        "xl_3 = 17.5\n",
        "\n",
        "(xl_3-u0_3)/(2/100**0.5)\n"
      ],
      "execution_count": null,
      "outputs": [
        {
          "output_type": "execute_result",
          "data": {
            "text/plain": [
              "2.5"
            ]
          },
          "metadata": {},
          "execution_count": 38
        }
      ]
    },
    {
      "cell_type": "markdown",
      "metadata": {
        "id": "910nu2j05OcX"
      },
      "source": [
        "## 4. Продавец утверждает, что средний вес пачки печенья составляет 200 г. Из партии извлечена выборка из 10 пачек. Вес каждой пачки составляет: 202, 203, 199, 197, 195, 201, 200, 204, 194, 190. Известно, что их веса распределены нормально. Верно ли утверждение продавца, если учитывать, что доверительная вероятность равна 99%?"
      ]
    },
    {
      "cell_type": "markdown",
      "metadata": {
        "id": "zUi79Dv6AUd1"
      },
      "source": [
        "## H0 : вес = 200 г , u = uo верно\n",
        "## H1 : вес = 198.5 , u не равно uo"
      ]
    },
    {
      "cell_type": "code",
      "metadata": {
        "colab": {
          "base_uri": "https://localhost:8080/"
        },
        "id": "QPwgXp5gAAPE",
        "outputId": "6e46f825-ff5c-4b1c-9a73-2c8d32d39c2c"
      },
      "source": [
        "u0_4 = 200\n",
        "a_4 = 0.01\n",
        "n_4 = 10\n",
        "xl_4 = [202, 203, 199, 197, 195, 201, 200, 204, 194, 190]\n",
        "xl_4mean = numpy.mean(xl_4)\n",
        "b_4 = numpy.std(xl_4, ddof=1)\n",
        "\n",
        "-(u0_4 - xl_4mean)/(b_4/n_4**0.5)\n"
      ],
      "execution_count": null,
      "outputs": [
        {
          "output_type": "execute_result",
          "data": {
            "text/plain": [
              "-1.0651074037450896"
            ]
          },
          "metadata": {},
          "execution_count": 43
        }
      ]
    },
    {
      "cell_type": "markdown",
      "metadata": {
        "id": "6VHNUPG_xXdQ"
      },
      "source": [
        "(-3.25; 3.25)"
      ]
    }
  ]
}