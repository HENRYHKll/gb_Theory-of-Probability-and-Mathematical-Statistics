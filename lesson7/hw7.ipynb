{
  "nbformat": 4,
  "nbformat_minor": 0,
  "metadata": {
    "colab": {
      "name": "hw7.ipynb",
      "provenance": []
    },
    "kernelspec": {
      "name": "python3",
      "display_name": "Python 3"
    },
    "language_info": {
      "name": "python"
    }
  },
  "cells": [
    {
      "cell_type": "markdown",
      "metadata": {
        "id": "zNyXBxGjt547"
      },
      "source": [
        "# Урок 7. Многомерный статистический анализ. Линейная регрессия"
      ]
    },
    {
      "cell_type": "markdown",
      "metadata": {
        "id": "kvawRLZVt8yr"
      },
      "source": [
        "## 1. Даны значения величины заработной платы заемщиков банка (zp) и значения их поведенческого кредитного скоринга (ks): zp = [35, 45, 190, 200, 40, 70, 54, 150, 120, 110], ks = [401, 574, 874, 919, 459, 739, 653, 902, 746, 832]. Используя математические операции, посчитать коэффициенты линейной регрессии, приняв за X заработную плату (то есть, zp - признак), а за y - значения скорингового балла (то есть, ks - целевая переменная). Произвести расчет как с использованием intercept, так и без."
      ]
    },
    {
      "cell_type": "code",
      "metadata": {
        "id": "tc6P8SYLtuOI"
      },
      "source": [
        "import numpy as np\n",
        "import seaborn as sns\n",
        "import matplotlib.pyplot as plt\n",
        "%matplotlib inline\n",
        "\n",
        "\n",
        "X = np.array([35, 45, 190, 200, 40, 70, 54, 150, 120, 110])\n",
        "y = np.array([401, 574, 874, 919, 459, 739, 653, 902, 746, 832])\n",
        "\n"
      ],
      "execution_count": 11,
      "outputs": []
    },
    {
      "cell_type": "code",
      "metadata": {
        "colab": {
          "base_uri": "https://localhost:8080/"
        },
        "id": "cpIALrFPBaoS",
        "outputId": "d5d575ae-54d0-44bd-a541-1cd7c2e64123"
      },
      "source": [
        "X = X.reshape(10, 1)\n",
        "X"
      ],
      "execution_count": 12,
      "outputs": [
        {
          "output_type": "execute_result",
          "data": {
            "text/plain": [
              "array([[ 35],\n",
              "       [ 45],\n",
              "       [190],\n",
              "       [200],\n",
              "       [ 40],\n",
              "       [ 70],\n",
              "       [ 54],\n",
              "       [150],\n",
              "       [120],\n",
              "       [110]])"
            ]
          },
          "metadata": {},
          "execution_count": 12
        }
      ]
    },
    {
      "cell_type": "code",
      "metadata": {
        "colab": {
          "base_uri": "https://localhost:8080/"
        },
        "id": "e_VzAhxVBdnW",
        "outputId": "ebea8003-0c89-4561-9404-1ffa62c69822"
      },
      "source": [
        "y = y.reshape(10, 1)\n",
        "y"
      ],
      "execution_count": 13,
      "outputs": [
        {
          "output_type": "execute_result",
          "data": {
            "text/plain": [
              "array([[401],\n",
              "       [574],\n",
              "       [874],\n",
              "       [919],\n",
              "       [459],\n",
              "       [739],\n",
              "       [653],\n",
              "       [902],\n",
              "       [746],\n",
              "       [832]])"
            ]
          },
          "metadata": {},
          "execution_count": 13
        }
      ]
    },
    {
      "cell_type": "code",
      "metadata": {
        "colab": {
          "base_uri": "https://localhost:8080/"
        },
        "id": "AkfcaNt9B8Yp",
        "outputId": "7e19b9ee-7766-40eb-95db-e34b3818599e"
      },
      "source": [
        "X = np.hstack([np.ones((10, 1)), X])\n",
        "X"
      ],
      "execution_count": 14,
      "outputs": [
        {
          "output_type": "execute_result",
          "data": {
            "text/plain": [
              "array([[  1.,  35.],\n",
              "       [  1.,  45.],\n",
              "       [  1., 190.],\n",
              "       [  1., 200.],\n",
              "       [  1.,  40.],\n",
              "       [  1.,  70.],\n",
              "       [  1.,  54.],\n",
              "       [  1., 150.],\n",
              "       [  1., 120.],\n",
              "       [  1., 110.]])"
            ]
          },
          "metadata": {},
          "execution_count": 14
        }
      ]
    },
    {
      "cell_type": "code",
      "metadata": {
        "colab": {
          "base_uri": "https://localhost:8080/"
        },
        "id": "wOESlNE4C3Qn",
        "outputId": "5f8df9a4-5c87-449a-cd3a-eaf04abdb646"
      },
      "source": [
        "B = np.dot(np.linalg.inv(np.dot(X.T, X)), X.T@y)\n",
        "B"
      ],
      "execution_count": 15,
      "outputs": [
        {
          "output_type": "execute_result",
          "data": {
            "text/plain": [
              "array([[444.17735732],\n",
              "       [  2.62053888]])"
            ]
          },
          "metadata": {},
          "execution_count": 15
        }
      ]
    },
    {
      "cell_type": "code",
      "metadata": {
        "colab": {
          "base_uri": "https://localhost:8080/",
          "height": 281
        },
        "id": "DettlPB4DCbK",
        "outputId": "fee973c4-76e7-4fd6-a0e8-69aabe7d0283"
      },
      "source": [
        "plt.scatter(X[0:, 1:], y)\n",
        "plt.plot(X[0:, 1:], 444.1773 + X[0:, 1:] * 2.6205)\n",
        "plt.title(\"С intercept\")\n",
        "plt.show()"
      ],
      "execution_count": 18,
      "outputs": [
        {
          "output_type": "display_data",
          "data": {
            "image/png": "[encoded data removed]",
            "text/plain": [
              "<Figure size 432x288 with 1 Axes>"
            ]
          },
          "metadata": {
            "needs_background": "light"
          }
        }
      ]
    },
    {
      "cell_type": "markdown",
      "metadata": {
        "id": "H5FJYS1qC0W7"
      },
      "source": [
        "Без intercept"
      ]
    },
    {
      "cell_type": "code",
      "metadata": {
        "id": "3-zi5u0dDPho"
      },
      "source": [
        "B2 = np.dot(np.linalg.inv(np.dot(X[0:, 1:].T, X[0:, 1:])), X[0:, 1:].T@y)\n",
        "B2"
      ],
      "execution_count": 16,
      "outputs": []
    },
    {
      "cell_type": "code",
      "metadata": {
        "colab": {
          "base_uri": "https://localhost:8080/",
          "height": 281
        },
        "id": "7BPIagvXEDpT",
        "outputId": "872f5081-9818-4b01-b643-0fc2350a8c02"
      },
      "source": [
        "plt.scatter(X[0:, 1:], y)\n",
        "plt.plot(X[0:, 1:], X[0:, 1:] * 5.8898)\n",
        "plt.title(\"Без intercept\")\n",
        "plt.show()"
      ],
      "execution_count": 19,
      "outputs": [
        {
          "output_type": "display_data",
          "data": {
            "image/png": "[encoded data removed]",
            "text/plain": [
              "<Figure size 432x288 with 1 Axes>"
            ]
          },
          "metadata": {
            "needs_background": "light"
          }
        }
      ]
    },
    {
      "cell_type": "code",
      "metadata": {
        "colab": {
          "base_uri": "https://localhost:8080/"
        },
        "id": "GtN2pFOqEIK2",
        "outputId": "51f97c67-52ae-4869-df7e-310a17d3dbb3"
      },
      "source": [
        "y_hat = 444.1773 + X[0:, 1:] * 2.6205\n",
        "mse = ((y-y_hat)**2).sum()/10\n",
        "mse"
      ],
      "execution_count": 20,
      "outputs": [
        {
          "output_type": "execute_result",
          "data": {
            "text/plain": [
              "6470.414222460003"
            ]
          },
          "metadata": {},
          "execution_count": 20
        }
      ]
    },
    {
      "cell_type": "code",
      "metadata": {
        "colab": {
          "base_uri": "https://localhost:8080/"
        },
        "id": "pR1sG5JuELCB",
        "outputId": "5c6892e5-6ae6-406d-9497-f3b15933c709"
      },
      "source": [
        "y_hat2 = X[0:, 1:] * 5.8898\n",
        "mse2 = ((y-y_hat2)**2).sum()/10\n",
        "mse2"
      ],
      "execution_count": 21,
      "outputs": [
        {
          "output_type": "execute_result",
          "data": {
            "text/plain": [
              "56516.858421464"
            ]
          },
          "metadata": {},
          "execution_count": 21
        }
      ]
    },
    {
      "cell_type": "markdown",
      "metadata": {
        "id": "_RNGtnl9uBa5"
      },
      "source": [
        "## 2. Посчитать коэффициент линейной регрессии при заработной плате (zp), используя градиентный спуск (без intercept)."
      ]
    },
    {
      "cell_type": "code",
      "metadata": {
        "colab": {
          "base_uri": "https://localhost:8080/"
        },
        "id": "wshHHykeER3u",
        "outputId": "aa358ddc-464f-49bc-924a-0393bd6f5270"
      },
      "source": [
        "X = np.array([35, 45, 190, 200, 40, 70, 54, 150, 120, 110])\n",
        "y = np.array([401, 574, 874, 919, 459, 739, 653, 902, 746, 832])\n",
        "\n",
        "def mse_(B1, y=y, X=X, n=10):\n",
        "    return np.sum((B1*X-y)**2)/n\n",
        "\n",
        "alpha = 1e-05\n",
        "alpha"
      ],
      "execution_count": 22,
      "outputs": [
        {
          "output_type": "execute_result",
          "data": {
            "text/plain": [
              "1e-05"
            ]
          },
          "metadata": {},
          "execution_count": 22
        }
      ]
    },
    {
      "cell_type": "code",
      "metadata": {
        "colab": {
          "base_uri": "https://localhost:8080/"
        },
        "id": "7iAkh5GvEdnE",
        "outputId": "3c8c5a87-425c-4eb8-e222-a7e796e38097"
      },
      "source": [
        "B1 = 2\n",
        "n = 10\n",
        "for i in range(100):\n",
        "    B1 -=alpha*(2/n)*np.sum((B1*X-y)*X)\n",
        "    if i%10==0:\n",
        "        print('Iteration={i}, B1={B1}, mse={mse}'.format(i=i, B1=B1, mse=mse_(B1)))"
      ],
      "execution_count": 23,
      "outputs": [
        {
          "output_type": "stream",
          "name": "stdout",
          "text": [
            "Iteration=0, B1=3.07177, mse=165922.46221619015\n",
            "Iteration=10, B1=5.777582184219032, mse=56690.40805414788\n",
            "Iteration=20, B1=5.885350158880083, mse=56517.133716763885\n",
            "Iteration=30, B1=5.889642377102131, mse=56516.85885242827\n",
            "Iteration=40, B1=5.889813328976504, mse=56516.85841641216\n",
            "Iteration=50, B1=5.889820137703795, mse=56516.85841572052\n",
            "Iteration=60, B1=5.8898204088840185, mse=56516.8584157194\n",
            "Iteration=70, B1=5.889820419684673, mse=56516.85841571941\n",
            "Iteration=80, B1=5.889820420114845, mse=56516.8584157194\n",
            "Iteration=90, B1=5.889820420131978, mse=56516.85841571943\n"
          ]
        }
      ]
    },
    {
      "cell_type": "markdown",
      "metadata": {
        "id": "eWTnknSTuGlo"
      },
      "source": [
        "## *3. Произвести вычисления как в пункте 2, но с вычислением intercept. Учесть, что изменение коэффициентов должно производиться на каждом шаге одновременно (то есть изменение одного коэффициента не должно влиять на изменение другого во время одной итерации)."
      ]
    },
    {
      "cell_type": "code",
      "metadata": {
        "colab": {
          "base_uri": "https://localhost:8080/"
        },
        "id": "12KKeL9kEqqV",
        "outputId": "ef821cb8-fa00-4a7f-cb22-9f03c91374b2"
      },
      "source": [
        "B0 = 1\n",
        "B1 = 1\n",
        "n = 10\n",
        "alpha = 1e-06\n",
        "alpha2 = 1e-01\n",
        "\n",
        "def mse_(B0, B1, y=y, X=X, n=10):\n",
        "    return np.sum((B0+B1*X-y)**2)/n\n",
        "\n",
        "for i in range(5000):\n",
        "    B0 -=alpha2*(2/n)*np.sum((B0+B1*X-y))\n",
        "    B1 -=alpha*(2/n)*np.sum((B0+B1*X-y)*X)\n",
        "    if i%500==0:\n",
        "        print('Iteration={i}, B0={B0}, B1={B1}, mse={mse}'.format(i=i, B0=B0, B1=B1, mse=mse_(B0,B1)))"
      ],
      "execution_count": 24,
      "outputs": [
        {
          "output_type": "stream",
          "name": "stdout",
          "text": [
            "Iteration=0, B0=122.50000000000003, B1=1.1098872, mse=239935.0084313456\n",
            "Iteration=500, B0=448.89951099840346, B1=2.575469272306189, mse=6477.535890663663\n",
            "Iteration=1000, B0=444.36391023131205, B1=2.6187583671211594, mse=6470.425316109506\n",
            "Iteration=1500, B0=444.1847272639029, B1=2.620468541553106, mse=6470.414218523909\n",
            "Iteration=2000, B0=444.1776484804169, B1=2.6205361035245485, mse=6470.414201203734\n",
            "Iteration=2500, B0=444.1773688267402, B1=2.6205387726206943, mse=6470.4142011767035\n",
            "Iteration=3000, B0=444.1773577787714, B1=2.620538878065727, mse=6470.41420117666\n",
            "Iteration=3500, B0=444.17735734231167, B1=2.6205388822314255, mse=6470.4142011766635\n",
            "Iteration=4000, B0=444.1773573250689, B1=2.6205388823959956, mse=6470.414201176662\n",
            "Iteration=4500, B0=444.1773573243879, B1=2.6205388824024953, mse=6470.414201176658\n"
          ]
        }
      ]
    }
  ]
}