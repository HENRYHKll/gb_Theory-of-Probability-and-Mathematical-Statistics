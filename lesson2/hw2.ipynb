{
  "nbformat": 4,
  "nbformat_minor": 0,
  "metadata": {
    "colab": {
      "name": "hw2.ipynb",
      "provenance": []
    },
    "kernelspec": {
      "name": "python3",
      "display_name": "Python 3"
    },
    "language_info": {
      "name": "python"
    }
  },
  "cells": [
    {
      "cell_type": "markdown",
      "metadata": {
        "id": "rQmhwtsI2bzj"
      },
      "source": [
        "# Урок 2. Дискретные случайные величины. Закон распределения вероятностей. Биномиальный закон распределения. Распределение Пуассона"
      ]
    },
    {
      "cell_type": "markdown",
      "metadata": {
        "id": "Be5h1U-M2mTM"
      },
      "source": [
        "## 1. Вероятность того, что стрелок попадет в мишень, выстрелив один раз, равна 0.8. Стрелок выстрелил 100 раз. Найдите вероятность того, что стрелок попадет в цель ровно 85 раз."
      ]
    },
    {
      "cell_type": "code",
      "metadata": {
        "id": "A3tiW8s35WEk"
      },
      "source": [
        "from math import factorial\n",
        "\n",
        "def combinations(n, k):\n",
        "  return int(factorial(n) / (factorial(k) * factorial(n - k)))\n",
        "\n",
        "def bernulli(n, k, p ):\n",
        "  q = (1-p)\n",
        "  C = combinations(n, k)\n",
        "  return C*(p**k)*(q**(n-k))\n",
        "\n",
        "def puasson(m, lamb):\n",
        "  return (((lamb**m)/factorial(m))*2.72**(-1*lamb))\n"
      ],
      "execution_count": 1,
      "outputs": []
    },
    {
      "cell_type": "markdown",
      "metadata": {
        "id": "7xpiPOHw8R1A"
      },
      "source": [
        "## Применяем формулу Бернулли и получаем:"
      ]
    },
    {
      "cell_type": "code",
      "metadata": {
        "colab": {
          "base_uri": "https://localhost:8080/",
          "height": 35
        },
        "id": "4XwVPl1B2rMG",
        "outputId": "8ff8c331-9cb0-4a71-a90a-837008e750de"
      },
      "source": [
        "P75 = bernulli(100, 85, 0.8)\n",
        "\"{:.2%}\".format(P75)"
      ],
      "execution_count": 2,
      "outputs": [
        {
          "output_type": "execute_result",
          "data": {
            "application/vnd.google.colaboratory.intrinsic+json": {
              "type": "string"
            },
            "text/plain": [
              "'4.81%'"
            ]
          },
          "metadata": {},
          "execution_count": 2
        }
      ]
    },
    {
      "cell_type": "markdown",
      "metadata": {
        "id": "fdVZS6vt--wM"
      },
      "source": [
        "## 2. Вероятность того, что лампочка перегорит в течение первого дня эксплуатации, равна 0.0004. В жилом комплексе после ремонта в один день включили 5000 новых лампочек. Какова вероятность, что ни одна из них не перегорит в первый день? "
      ]
    },
    {
      "cell_type": "code",
      "metadata": {
        "colab": {
          "base_uri": "https://localhost:8080/",
          "height": 35
        },
        "id": "O4e9cciu_DWY",
        "outputId": "8bfbfade-0560-4aea-cedd-195265c062e2"
      },
      "source": [
        "m21 = 0\n",
        "n21 = 5000\n",
        "p21 = 0.0004\n",
        "lamb21 = p21*n21\n",
        "\n",
        "P21 = puasson(m21 , lamb21)\n",
        "\"{:.3%}\".format(P21)"
      ],
      "execution_count": 3,
      "outputs": [
        {
          "output_type": "execute_result",
          "data": {
            "application/vnd.google.colaboratory.intrinsic+json": {
              "type": "string"
            },
            "text/plain": [
              "'13.516%'"
            ]
          },
          "metadata": {},
          "execution_count": 3
        }
      ]
    },
    {
      "cell_type": "markdown",
      "metadata": {
        "id": "yMDZQRWkEIf1"
      },
      "source": [
        "## Какова вероятность, что перегорят ровно две?"
      ]
    },
    {
      "cell_type": "code",
      "metadata": {
        "colab": {
          "base_uri": "https://localhost:8080/",
          "height": 35
        },
        "id": "6QEmMkKtEKGI",
        "outputId": "7a8421b0-cc2d-4281-a336-ce8ffc9b5a20"
      },
      "source": [
        "m22 = 2\n",
        "n22 = 5000\n",
        "p22 = 0.0004\n",
        "lamb22 = p22*n22\n",
        "\n",
        "P22 = puasson(m22 , lamb22)\n",
        "\"{:.2%}\".format(P22)"
      ],
      "execution_count": 4,
      "outputs": [
        {
          "output_type": "execute_result",
          "data": {
            "application/vnd.google.colaboratory.intrinsic+json": {
              "type": "string"
            },
            "text/plain": [
              "'27.03%'"
            ]
          },
          "metadata": {},
          "execution_count": 4
        }
      ]
    },
    {
      "cell_type": "markdown",
      "metadata": {
        "id": "zm6YgOIBFH84"
      },
      "source": [
        "## 3. Монету подбросили 144 раза. Какова вероятность, что орел выпадет ровно 70 раз?"
      ]
    },
    {
      "cell_type": "code",
      "metadata": {
        "colab": {
          "base_uri": "https://localhost:8080/",
          "height": 35
        },
        "id": "TX5VbFyuFK4O",
        "outputId": "e7b147e5-a39f-4b5e-9c91-91055a4aaff6"
      },
      "source": [
        "p3 = 1/2\n",
        "n3 = 144\n",
        "k3 = 70\n",
        "\n",
        "P3 = bernulli(n3, k3, p3)\n",
        "\"{:.2%}\".format(P3)"
      ],
      "execution_count": 5,
      "outputs": [
        {
          "output_type": "execute_result",
          "data": {
            "application/vnd.google.colaboratory.intrinsic+json": {
              "type": "string"
            },
            "text/plain": [
              "'6.28%'"
            ]
          },
          "metadata": {},
          "execution_count": 5
        }
      ]
    },
    {
      "cell_type": "markdown",
      "metadata": {
        "id": "S9rAdOv6HgFz"
      },
      "source": [
        "## 4. В первом ящике находится 10 мячей, из которых 7 - белые. Во втором ящике - 11 мячей, из которых 9 белых. Из каждого ящика вытаскивают случайным образом по два мяча. Какова вероятность того, что все мячи белые? Какова вероятность того, что ровно два мяча белые? Какова вероятность того, что хотя бы один мяч белый?"
      ]
    },
    {
      "cell_type": "markdown",
      "metadata": {
        "id": "T668tvAwj8Ik"
      },
      "source": [
        "Какова вероятность того, что все мячи белые?"
      ]
    },
    {
      "cell_type": "code",
      "metadata": {
        "colab": {
          "base_uri": "https://localhost:8080/",
          "height": 35
        },
        "id": "PwHH9WYpkAnf",
        "outputId": "3e3005f5-f982-49b5-fa10-16ec3595e1dd"
      },
      "source": [
        "P41 = combinations(7, 2)/ combinations(10, 2)*combinations(9, 2)/combinations(11, 2)\n",
        "\"{:.2%}\".format(P41)"
      ],
      "execution_count": 6,
      "outputs": [
        {
          "output_type": "execute_result",
          "data": {
            "application/vnd.google.colaboratory.intrinsic+json": {
              "type": "string"
            },
            "text/plain": [
              "'30.55%'"
            ]
          },
          "metadata": {},
          "execution_count": 6
        }
      ]
    },
    {
      "cell_type": "markdown",
      "metadata": {
        "id": "qglSZVTaIYRI"
      },
      "source": [
        "Какова вероятность того, что ровно два мяча белые?"
      ]
    },
    {
      "cell_type": "code",
      "metadata": {
        "colab": {
          "base_uri": "https://localhost:8080/",
          "height": 35
        },
        "id": "wQbfWWMlIX9A",
        "outputId": "0da8812e-e25a-469e-a9b4-7bda6040d19d"
      },
      "source": [
        "PWWBB = combinations(7, 2)/combinations(10,2)*combinations(2, 2)/combinations(11, 2)\n",
        "PBBWW = combinations(3, 2)/combinations(10,2)*combinations(9, 2)/combinations(11, 2)\n",
        "PWBWB = (combinations(7, 1)*combinations(3, 1)/combinations(10, 2))*(combinations(9, 1)*combinations(2, 1)/combinations(11, 2))\n",
        "P42 = PWWBB + PBBWW + PWBWB\n",
        "\"{:.2%}\".format(P42)"
      ],
      "execution_count": 8,
      "outputs": [
        {
          "output_type": "execute_result",
          "data": {
            "application/vnd.google.colaboratory.intrinsic+json": {
              "type": "string"
            },
            "text/plain": [
              "'20.48%'"
            ]
          },
          "metadata": {},
          "execution_count": 8
        }
      ]
    },
    {
      "cell_type": "markdown",
      "metadata": {
        "id": "bzLkunrQHhLm"
      },
      "source": [
        "Какова вероятность того, что хотя бы один мяч белый?"
      ]
    },
    {
      "cell_type": "code",
      "metadata": {
        "colab": {
          "base_uri": "https://localhost:8080/",
          "height": 35
        },
        "id": "cJ6pttqpHmN2",
        "outputId": "8718af28-1634-4362-e2ef-83778a091e93"
      },
      "source": [
        "P43 = 1- combinations(3, 2) / combinations(10, 2) * combinations(2, 2) / combinations(11, 2)\n",
        "\"{:.2%}\".format(P43)"
      ],
      "execution_count": 7,
      "outputs": [
        {
          "output_type": "execute_result",
          "data": {
            "application/vnd.google.colaboratory.intrinsic+json": {
              "type": "string"
            },
            "text/plain": [
              "'99.88%'"
            ]
          },
          "metadata": {},
          "execution_count": 7
        }
      ]
    }
  ]
}