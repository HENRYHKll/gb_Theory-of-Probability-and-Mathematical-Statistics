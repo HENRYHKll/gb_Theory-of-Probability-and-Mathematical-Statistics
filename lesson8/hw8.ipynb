{
  "nbformat": 4,
  "nbformat_minor": 0,
  "metadata": {
    "colab": {
      "name": "hw8.ipynb",
      "provenance": [],
      "collapsed_sections": []
    },
    "kernelspec": {
      "name": "python3",
      "display_name": "Python 3"
    },
    "language_info": {
      "name": "python"
    }
  },
  "cells": [
    {
      "cell_type": "markdown",
      "metadata": {
        "id": "MOITDnoaX87l"
      },
      "source": [
        "# Урок 8. Дисперсионный анализ. Логистическая регрессия"
      ]
    },
    {
      "cell_type": "markdown",
      "metadata": {
        "id": "T-KFmJZTX-yj"
      },
      "source": [
        "## Провести дисперсионный анализ для определения того, есть ли различия среднего роста среди взрослых футболистов, хоккеистов и штангистов. (Сделать вывод для альфа 1% и 5%) Даны значения роста в трех группах случайно выбранных спортсменов: Футболисты: 173, 175, 180, 178, 177, 185, 183, 182. Хоккеисты: 177, 179, 180, 188, 177, 172, 171, 184, 180. Штангисты: 172, 173, 169, 177, 166, 180, 178, 177, 172, 166, 170."
      ]
    },
    {
      "cell_type": "code",
      "metadata": {
        "id": "9sgh08v3E9rt",
        "colab": {
          "base_uri": "https://localhost:8080/"
        },
        "outputId": "af9a300d-64b6-4277-a920-ece7bea494f3"
      },
      "source": [
        " import numpy as np\n",
        "from scipy import stats\n",
        "y1 = np.array([173, 175, 180, 178, 177, 185, 183, 182])\n",
        "y2 = np.array([177, 179, 180, 188, 177, 172, 171, 184, 180])\n",
        "y3 = np.array([172, 173, 169, 177, 166, 180, 178, 177, 172, 166, 170])\n",
        "stats.f_oneway(y1, y2, y3)"
      ],
      "execution_count": 1,
      "outputs": [
        {
          "output_type": "execute_result",
          "data": {
            "text/plain": [
              "F_onewayResult(statistic=5.500053450812596, pvalue=0.010482206918698694)"
            ]
          },
          "metadata": {},
          "execution_count": 1
        }
      ]
    },
    {
      "cell_type": "markdown",
      "metadata": {
        "id": "KusLMYhJyvjw"
      },
      "source": [
        "## H0: mu1 = mu2 = mu3 - вид спорта не влияет на рост спортсмена \n",
        "## H1: mu1 <> mu2 <> mu3 - рост спортсмена зависит от вида спорта\n",
        "\n",
        "## pvalue>0,01 и находиться в области H0"
      ]
    }
  ]
}