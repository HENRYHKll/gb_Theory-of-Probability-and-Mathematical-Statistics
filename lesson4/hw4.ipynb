{
  "nbformat": 4,
  "nbformat_minor": 0,
  "metadata": {
    "colab": {
      "name": "hw4",
      "provenance": []
    },
    "kernelspec": {
      "name": "python3",
      "display_name": "Python 3"
    },
    "language_info": {
      "name": "python"
    }
  },
  "cells": [
    {
      "cell_type": "markdown",
      "metadata": {
        "id": "ACzXeSYV2jPJ"
      },
      "source": [
        "# Урок 4. Непрерывные случайные величины. Функция распределения и плотность распределения вероятностей. Равномерное и нормальное распределение. Центральная предельная теорема"
      ]
    },
    {
      "cell_type": "markdown",
      "metadata": {
        "id": "4OSPS7Ni2ltS"
      },
      "source": [
        "## 1. Случайная непрерывная величина A имеет равномерное распределение на промежутке (200, 800]. Найдите ее среднее значение и дисперсию."
      ]
    },
    {
      "cell_type": "code",
      "metadata": {
        "id": "XBHG7nvxnkg2"
      },
      "source": [
        "a1= 200\n",
        "b1= 800"
      ],
      "execution_count": 1,
      "outputs": []
    },
    {
      "cell_type": "markdown",
      "metadata": {
        "id": "acC7QzQconCv"
      },
      "source": [
        "среднее значение "
      ]
    },
    {
      "cell_type": "code",
      "metadata": {
        "colab": {
          "base_uri": "https://localhost:8080/"
        },
        "id": "dfOA0iBWobAy",
        "outputId": "c8158bc9-1f5f-44e0-b63a-64d0dbe41bfb"
      },
      "source": [
        "M_X_1 = (a1 + b1)/2\n",
        "M_X_1"
      ],
      "execution_count": 2,
      "outputs": [
        {
          "output_type": "execute_result",
          "data": {
            "text/plain": [
              "500.0"
            ]
          },
          "metadata": {},
          "execution_count": 2
        }
      ]
    },
    {
      "cell_type": "markdown",
      "metadata": {
        "id": "2_ukp0fkoo4W"
      },
      "source": [
        "дисперсия"
      ]
    },
    {
      "cell_type": "code",
      "metadata": {
        "colab": {
          "base_uri": "https://localhost:8080/"
        },
        "id": "PFrMQ9fTodEH",
        "outputId": "350076a3-3a15-4e28-c34f-27aa0dd5622b"
      },
      "source": [
        "D_X_1 = (b1 - a1)**2/12\n",
        "D_X_1"
      ],
      "execution_count": 3,
      "outputs": [
        {
          "output_type": "execute_result",
          "data": {
            "text/plain": [
              "30000.0"
            ]
          },
          "metadata": {},
          "execution_count": 3
        }
      ]
    },
    {
      "cell_type": "markdown",
      "metadata": {
        "id": "Rh9-Z1OEmuvH"
      },
      "source": [
        "## 2. О случайной непрерывной равномерно распределенной величине B известно, что ее дисперсия равна 0.2.Можно ли найти правую границу величины B и ее среднее значение зная, что левая граница равна 0.5?\n",
        "## Если да, найдите ее."
      ]
    },
    {
      "cell_type": "code",
      "metadata": {
        "colab": {
          "base_uri": "https://localhost:8080/",
          "height": 35
        },
        "id": "SPhNy_BLqB4Q",
        "outputId": "c7536eb0-c513-43b4-96b5-38a4bd6e1887"
      },
      "source": [
        "D_X_2 = 0.2\n",
        "a2 = 0.5\n",
        "b2 = (0.2*12)**0.5+a2\n",
        "\"{:.3}\".format(b2)"
      ],
      "execution_count": 4,
      "outputs": [
        {
          "output_type": "execute_result",
          "data": {
            "application/vnd.google.colaboratory.intrinsic+json": {
              "type": "string"
            },
            "text/plain": [
              "'2.05'"
            ]
          },
          "metadata": {},
          "execution_count": 4
        }
      ]
    },
    {
      "cell_type": "code",
      "metadata": {
        "colab": {
          "base_uri": "https://localhost:8080/",
          "height": 35
        },
        "id": "Enqs151usUXg",
        "outputId": "55a4d5f1-c7d6-451b-a218-df65fe6239b6"
      },
      "source": [
        "M_X_2 = (a2 + b2)/2\n",
        "\"{:.3}\".format(M_X_2)"
      ],
      "execution_count": 5,
      "outputs": [
        {
          "output_type": "execute_result",
          "data": {
            "application/vnd.google.colaboratory.intrinsic+json": {
              "type": "string"
            },
            "text/plain": [
              "'1.27'"
            ]
          },
          "metadata": {},
          "execution_count": 5
        }
      ]
    },
    {
      "cell_type": "markdown",
      "metadata": {
        "id": "nIXFm_gEm1py"
      },
      "source": [
        "## 3. Непрерывная случайная величина X распределена нормально и задана плотностью распределения\n",
        "## f(x) = (1 / (4 * sqrt(2*pi))) * (exp(-(x+2)**2) / 32).\n",
        "## Найдите:\n"
      ]
    },
    {
      "cell_type": "markdown",
      "metadata": {
        "id": "lnUoNQ6XtS9-"
      },
      "source": [
        "### а). M(X) = 4\n",
        "### б). D(X) = -2\n",
        "### в). std(X) (среднее квадратичное) = 16"
      ]
    },
    {
      "cell_type": "markdown",
      "metadata": {
        "id": "Cy7XQuqstOyL"
      },
      "source": [
        "## 4. Рост взрослого населения города X имеет нормальное распределение.Причем, средний рост равен 174 см, а среднее отклонение)квадратичное отклонение равно 8 см.Какова вероятность того, что случайным образом выбранный взрослый человек имеет рост:\n",
        "\n"
      ]
    },
    {
      "cell_type": "markdown",
      "metadata": {
        "id": "jN-5mz6gTV4r"
      },
      "source": [
        "### а). больше 182 см"
      ]
    },
    {
      "cell_type": "code",
      "metadata": {
        "colab": {
          "base_uri": "https://localhost:8080/",
          "height": 35
        },
        "id": "W--F7RXlTQ1d",
        "outputId": "09008cb9-c017-4a35-bd33-c115c8cc79e0"
      },
      "source": [
        "\"{:.2%}\".format(1-0.8413)"
      ],
      "execution_count": 11,
      "outputs": [
        {
          "output_type": "execute_result",
          "data": {
            "application/vnd.google.colaboratory.intrinsic+json": {
              "type": "string"
            },
            "text/plain": [
              "'15.87%'"
            ]
          },
          "metadata": {},
          "execution_count": 11
        }
      ]
    },
    {
      "cell_type": "markdown",
      "metadata": {
        "id": "Ch62FLi6TqXq"
      },
      "source": [
        "### б). больше 190 см\n",
        "так как симтричны"
      ]
    },
    {
      "cell_type": "code",
      "metadata": {
        "colab": {
          "base_uri": "https://localhost:8080/",
          "height": 35
        },
        "id": "3NYF0PVyTrDB",
        "outputId": "09da9861-4ddc-49f8-928a-1e63a60d0cee"
      },
      "source": [
        "\"{:.2%}\".format(0.0228)"
      ],
      "execution_count": 12,
      "outputs": [
        {
          "output_type": "execute_result",
          "data": {
            "application/vnd.google.colaboratory.intrinsic+json": {
              "type": "string"
            },
            "text/plain": [
              "'2.28%'"
            ]
          },
          "metadata": {},
          "execution_count": 12
        }
      ]
    },
    {
      "cell_type": "markdown",
      "metadata": {
        "id": "AswkUeyAUzp-"
      },
      "source": [
        "### в). от 166 см до 190 см"
      ]
    },
    {
      "cell_type": "code",
      "metadata": {
        "colab": {
          "base_uri": "https://localhost:8080/",
          "height": 35
        },
        "id": "uH2VZGe0Uz7a",
        "outputId": "b8deca70-fc8b-4e56-c582-6c31a5c1ed1a"
      },
      "source": [
        "\"{:.2%}\".format(1-0.0228-0.1587)"
      ],
      "execution_count": 14,
      "outputs": [
        {
          "output_type": "execute_result",
          "data": {
            "application/vnd.google.colaboratory.intrinsic+json": {
              "type": "string"
            },
            "text/plain": [
              "'81.85%'"
            ]
          },
          "metadata": {},
          "execution_count": 14
        }
      ]
    },
    {
      "cell_type": "markdown",
      "metadata": {
        "id": "RjZ_IkuGbfxH"
      },
      "source": [
        "### г). от 166 см до 182 см"
      ]
    },
    {
      "cell_type": "code",
      "metadata": {
        "colab": {
          "base_uri": "https://localhost:8080/",
          "height": 35
        },
        "id": "q5ercCTJbgJD",
        "outputId": "88c66bd6-180a-4d06-faee-44c2146e466d"
      },
      "source": [
        "\"{:.2%}\".format(0.8413-0.1587)"
      ],
      "execution_count": 15,
      "outputs": [
        {
          "output_type": "execute_result",
          "data": {
            "application/vnd.google.colaboratory.intrinsic+json": {
              "type": "string"
            },
            "text/plain": [
              "'68.26%'"
            ]
          },
          "metadata": {},
          "execution_count": 15
        }
      ]
    },
    {
      "cell_type": "markdown",
      "metadata": {
        "id": "XRQCuZnycpJ1"
      },
      "source": [
        "### д). от 158 см до 190 см"
      ]
    },
    {
      "cell_type": "code",
      "metadata": {
        "colab": {
          "base_uri": "https://localhost:8080/",
          "height": 35
        },
        "id": "f7pS887Zcqb1",
        "outputId": "0da32e3d-f20a-4c09-8799-74b264db4c2e"
      },
      "source": [
        "\"{:.2%}\".format(1-0.0228*2)"
      ],
      "execution_count": 16,
      "outputs": [
        {
          "output_type": "execute_result",
          "data": {
            "application/vnd.google.colaboratory.intrinsic+json": {
              "type": "string"
            },
            "text/plain": [
              "'95.44%'"
            ]
          },
          "metadata": {},
          "execution_count": 16
        }
      ]
    },
    {
      "cell_type": "markdown",
      "metadata": {
        "id": "c7mVGV4XdPyL"
      },
      "source": [
        "### е). не выше 150 см или не ниже 190 см"
      ]
    },
    {
      "cell_type": "code",
      "metadata": {
        "colab": {
          "base_uri": "https://localhost:8080/",
          "height": 35
        },
        "id": "7AL1uDokdQ-C",
        "outputId": "44095474-c771-4089-edad-77274928883f"
      },
      "source": [
        "\"{:.2%}\".format(0.0228+0.0014)"
      ],
      "execution_count": 17,
      "outputs": [
        {
          "output_type": "execute_result",
          "data": {
            "application/vnd.google.colaboratory.intrinsic+json": {
              "type": "string"
            },
            "text/plain": [
              "'2.42%'"
            ]
          },
          "metadata": {},
          "execution_count": 17
        }
      ]
    },
    {
      "cell_type": "markdown",
      "metadata": {
        "id": "LTeG_YAyefIR"
      },
      "source": [
        "### ё). не выше 150 см или не ниже 198 см"
      ]
    },
    {
      "cell_type": "code",
      "metadata": {
        "colab": {
          "base_uri": "https://localhost:8080/",
          "height": 35
        },
        "id": "eE76wXuPef_f",
        "outputId": "c310bb0a-7e71-4609-8f14-5f09140777eb"
      },
      "source": [
        "\"{:.2%}\".format(0.0014+0.0014)"
      ],
      "execution_count": 18,
      "outputs": [
        {
          "output_type": "execute_result",
          "data": {
            "application/vnd.google.colaboratory.intrinsic+json": {
              "type": "string"
            },
            "text/plain": [
              "'0.28%'"
            ]
          },
          "metadata": {},
          "execution_count": 18
        }
      ]
    },
    {
      "cell_type": "markdown",
      "metadata": {
        "id": "vSlZ3lIfes1b"
      },
      "source": [
        "### ж). ниже 166 см."
      ]
    },
    {
      "cell_type": "code",
      "metadata": {
        "colab": {
          "base_uri": "https://localhost:8080/",
          "height": 35
        },
        "id": "DWsn0pYXetgo",
        "outputId": "be963c2f-8727-4036-df09-dd75145f724d"
      },
      "source": [
        "\"{:.2%}\".format(0.1587)"
      ],
      "execution_count": 19,
      "outputs": [
        {
          "output_type": "execute_result",
          "data": {
            "application/vnd.google.colaboratory.intrinsic+json": {
              "type": "string"
            },
            "text/plain": [
              "'15.87%'"
            ]
          },
          "metadata": {},
          "execution_count": 19
        }
      ]
    },
    {
      "cell_type": "markdown",
      "metadata": {
        "id": "2UY0jaqmPwUD"
      },
      "source": [
        "## 5. На сколько сигм (средних квадратичных отклонений) отклоняется рост человека, равный 190 см, от математического ожидания роста в популяции, в которой M(X) = 178 см и D(X) = 25 кв.см?"
      ]
    },
    {
      "cell_type": "code",
      "metadata": {
        "colab": {
          "base_uri": "https://localhost:8080/",
          "height": 35
        },
        "id": "Mwbt1a1dfkT_",
        "outputId": "2df2f435-2249-466e-99e9-d6b7aa2b3d08"
      },
      "source": [
        "\"{:.2}\".format((190-178)/25**0.5)"
      ],
      "execution_count": 26,
      "outputs": [
        {
          "output_type": "execute_result",
          "data": {
            "application/vnd.google.colaboratory.intrinsic+json": {
              "type": "string"
            },
            "text/plain": [
              "'2.4'"
            ]
          },
          "metadata": {},
          "execution_count": 26
        }
      ]
    }
  ]
}