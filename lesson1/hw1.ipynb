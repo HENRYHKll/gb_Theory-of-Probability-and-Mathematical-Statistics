{
  "nbformat": 4,
  "nbformat_minor": 0,
  "metadata": {
    "colab": {
      "name": "Копия блокнота \"hw1\"",
      "provenance": []
    },
    "kernelspec": {
      "name": "python3",
      "display_name": "Python 3"
    },
    "language_info": {
      "name": "python"
    }
  },
  "cells": [
    {
      "cell_type": "markdown",
      "metadata": {
        "id": "Pd34MrUd0S5O"
      },
      "source": [
        "### **ДЗ 1. Случайные события. Условная вероятность. Формула Байеса. Независимые испытания**"
      ]
    },
    {
      "cell_type": "code",
      "metadata": {
        "id": "Gv1FRFR23n3F"
      },
      "source": [
        "from math import factorial\n",
        "\n",
        "def combinations(n, k):\n",
        "  return int(factorial(n) / (factorial(k) * factorial(n - k)))\n",
        "\n",
        "def arrangements(n, k):\n",
        "  return int(factorial(n) / factorial(n - k))\n",
        "\n",
        "def permutations (n):\n",
        "  return int(factorial(n))\n"
      ],
      "execution_count": 41,
      "outputs": []
    },
    {
      "cell_type": "markdown",
      "metadata": {
        "id": "SPlBZDIB0eoh"
      },
      "source": [
        "## 1. Из колоды в 52 карты извлекаются случайным образом 4 карты. "
      ]
    },
    {
      "cell_type": "markdown",
      "metadata": {
        "id": "s228fimh6z7f"
      },
      "source": [
        "## a) Найти вероятность того, что все карты – крести."
      ]
    },
    {
      "cell_type": "markdown",
      "metadata": {
        "id": "EydDrf-Q9RFN"
      },
      "source": [
        "расмотри все комбинации из 13 кард по 4 каты"
      ]
    },
    {
      "cell_type": "code",
      "metadata": {
        "colab": {
          "base_uri": "https://localhost:8080/"
        },
        "id": "-hEOeJcB4hr2",
        "outputId": "b59a7a2c-6247-421d-faa2-17fbb9401637"
      },
      "source": [
        "Clubs_С = combinations(13, 4)\n",
        "Clubs_С"
      ],
      "execution_count": 42,
      "outputs": [
        {
          "output_type": "execute_result",
          "data": {
            "text/plain": [
              "715"
            ]
          },
          "metadata": {},
          "execution_count": 42
        }
      ]
    },
    {
      "cell_type": "markdown",
      "metadata": {
        "id": "_hIR7bIiPvKJ"
      },
      "source": [
        "Все возможные сочитание 4 карт из 52 карт"
      ]
    },
    {
      "cell_type": "code",
      "metadata": {
        "colab": {
          "base_uri": "https://localhost:8080/"
        },
        "id": "SWkzw2t9O01F",
        "outputId": "04b7c782-42fc-4fad-fea4-bb7afc825831"
      },
      "source": [
        "C52 = combinations (52, 4) \n",
        "C52"
      ],
      "execution_count": 43,
      "outputs": [
        {
          "output_type": "execute_result",
          "data": {
            "text/plain": [
              "270725"
            ]
          },
          "metadata": {},
          "execution_count": 43
        }
      ]
    },
    {
      "cell_type": "markdown",
      "metadata": {
        "id": "VYC3Cf2AP7MX"
      },
      "source": [
        "Вероятноть того, что все карты – крести"
      ]
    },
    {
      "cell_type": "code",
      "metadata": {
        "colab": {
          "base_uri": "https://localhost:8080/",
          "height": 35
        },
        "id": "w86Ll8HbPuUF",
        "outputId": "28d67143-5226-4cc3-b6a4-4f23f54ba901"
      },
      "source": [
        "P1a = Clubs_С / C52\n",
        "\"{:.2%}\".format(P1a)"
      ],
      "execution_count": 44,
      "outputs": [
        {
          "output_type": "execute_result",
          "data": {
            "application/vnd.google.colaboratory.intrinsic+json": {
              "type": "string"
            },
            "text/plain": [
              "'0.26%'"
            ]
          },
          "metadata": {},
          "execution_count": 44
        }
      ]
    },
    {
      "cell_type": "markdown",
      "metadata": {
        "id": "OcjLKtjD-Y0V"
      },
      "source": [
        "## б) Найти вероятность, что среди 4-х карт окажется хотя бы один туз."
      ]
    },
    {
      "cell_type": "markdown",
      "metadata": {
        "id": "WFUQULuYCJCS"
      },
      "source": [
        "Все возможные комбинации из четырех карт где хотябы один туз"
      ]
    },
    {
      "cell_type": "code",
      "metadata": {
        "colab": {
          "base_uri": "https://localhost:8080/"
        },
        "id": "zCrPZe5D-YTO",
        "outputId": "3d005687-e6bd-44ba-b48a-21fa62f660ae"
      },
      "source": [
        "Ace_сard = combinations(4, 1)\n",
        "Ace_сard"
      ],
      "execution_count": 45,
      "outputs": [
        {
          "output_type": "execute_result",
          "data": {
            "text/plain": [
              "4"
            ]
          },
          "metadata": {},
          "execution_count": 45
        }
      ]
    },
    {
      "cell_type": "markdown",
      "metadata": {
        "id": "mNfgFJ55DYA9"
      },
      "source": [
        "среди 4 карт хотя бы 1 туз "
      ]
    },
    {
      "cell_type": "code",
      "metadata": {
        "colab": {
          "base_uri": "https://localhost:8080/"
        },
        "id": "ppg_CZQ26y__",
        "outputId": "5f4c7ad3-bc60-4a0a-e2b7-679b65642e9f"
      },
      "source": [
        "Not_aces_card = combinations(51, 3)\n",
        "Not_aces_card"
      ],
      "execution_count": 46,
      "outputs": [
        {
          "output_type": "execute_result",
          "data": {
            "text/plain": [
              "20825"
            ]
          },
          "metadata": {},
          "execution_count": 46
        }
      ]
    },
    {
      "cell_type": "markdown",
      "metadata": {
        "id": "5ge9I6RbEmua"
      },
      "source": [
        "Хотябы один туз"
      ]
    },
    {
      "cell_type": "code",
      "metadata": {
        "colab": {
          "base_uri": "https://localhost:8080/"
        },
        "id": "tBOiq4SFEm-i",
        "outputId": "5baa720d-a908-4a55-c683-b4df0b9263ce"
      },
      "source": [
        "C1b = combinations(48, 4)\n",
        "C1b"
      ],
      "execution_count": 47,
      "outputs": [
        {
          "output_type": "execute_result",
          "data": {
            "text/plain": [
              "194580"
            ]
          },
          "metadata": {},
          "execution_count": 47
        }
      ]
    },
    {
      "cell_type": "markdown",
      "metadata": {
        "id": "r_CY5wgJMs0p"
      },
      "source": [
        "Все возможные сочитание 4 карт из 52 карт  "
      ]
    },
    {
      "cell_type": "code",
      "metadata": {
        "colab": {
          "base_uri": "https://localhost:8080/"
        },
        "id": "A8LDSBeAMyx5",
        "outputId": "e9bcf09c-7190-4718-a642-8e61bf011ec9"
      },
      "source": [
        "C52"
      ],
      "execution_count": 48,
      "outputs": [
        {
          "output_type": "execute_result",
          "data": {
            "text/plain": [
              "270725"
            ]
          },
          "metadata": {},
          "execution_count": 48
        }
      ]
    },
    {
      "cell_type": "markdown",
      "metadata": {
        "id": "B5hovAQ7QDXC"
      },
      "source": [
        "Вероятность"
      ]
    },
    {
      "cell_type": "code",
      "metadata": {
        "colab": {
          "base_uri": "https://localhost:8080/",
          "height": 35
        },
        "id": "aLPOtnBIFeaJ",
        "outputId": "008c645c-be7b-4d1d-99ad-f21fd2d9788b"
      },
      "source": [
        "P1b =1 - (C1b / C52)\n",
        "\"{:.1%}\".format(P1b)"
      ],
      "execution_count": 49,
      "outputs": [
        {
          "output_type": "execute_result",
          "data": {
            "application/vnd.google.colaboratory.intrinsic+json": {
              "type": "string"
            },
            "text/plain": [
              "'28.1%'"
            ]
          },
          "metadata": {},
          "execution_count": 49
        }
      ]
    },
    {
      "cell_type": "markdown",
      "metadata": {
        "id": "NI1zcsEDSBh_"
      },
      "source": [
        "## 2. На входной двери подъезда установлен кодовый замок, содержащий десять кнопок с цифрами от 0 до 9. Код содержит три цифры, которые нужно нажать одновременно. Какова вероятность того, что человек, не знающий код, откроет дверь с первой попытки?"
      ]
    },
    {
      "cell_type": "markdown",
      "metadata": {
        "id": "CcEwYjGzSK6J"
      },
      "source": [
        "Расчитаем все возможные комбинации 3 цифр из 10"
      ]
    },
    {
      "cell_type": "code",
      "metadata": {
        "colab": {
          "base_uri": "https://localhost:8080/"
        },
        "id": "t3PewCsFS8ME",
        "outputId": "86f1f76f-1815-43cf-881b-b6ee63e96f5e"
      },
      "source": [
        "code_C = combinations (10, 3)\n",
        "code_C"
      ],
      "execution_count": 50,
      "outputs": [
        {
          "output_type": "execute_result",
          "data": {
            "text/plain": [
              "120"
            ]
          },
          "metadata": {},
          "execution_count": 50
        }
      ]
    },
    {
      "cell_type": "markdown",
      "metadata": {
        "id": "k3lBfht6TplC"
      },
      "source": [
        "Вероятность того, что человек, не знающий код, откроет дверь с первой попытки\n"
      ]
    },
    {
      "cell_type": "code",
      "metadata": {
        "colab": {
          "base_uri": "https://localhost:8080/",
          "height": 35
        },
        "id": "xv_eTlJdTy-b",
        "outputId": "2f29e2b4-29ac-4016-ea13-6f3d77ae58dd"
      },
      "source": [
        "P2 = 1 / code_C\n",
        "\"{:.1%}\".format(P2)"
      ],
      "execution_count": 51,
      "outputs": [
        {
          "output_type": "execute_result",
          "data": {
            "application/vnd.google.colaboratory.intrinsic+json": {
              "type": "string"
            },
            "text/plain": [
              "'0.8%'"
            ]
          },
          "metadata": {},
          "execution_count": 51
        }
      ]
    },
    {
      "cell_type": "markdown",
      "metadata": {
        "id": "m5BabJmiT_yl"
      },
      "source": [
        "## 3. В ящике имеется 15 деталей, из которых 9 окрашены. Рабочий случайным образом извлекает 3 детали. Какова вероятность того, что все извлеченные детали окрашены?"
      ]
    },
    {
      "cell_type": "markdown",
      "metadata": {
        "id": "8WfiSNa7dWbo"
      },
      "source": [
        "Событья A1 что рабочий вытащит окрашеную деталь первый раз"
      ]
    },
    {
      "cell_type": "code",
      "metadata": {
        "colab": {
          "base_uri": "https://localhost:8080/"
        },
        "id": "JnDdhOwCdWRW",
        "outputId": "4ab0dad0-d829-4c76-88a7-d36d285a1f23"
      },
      "source": [
        "A1_3 = (9/15)\n",
        "A1_3"
      ],
      "execution_count": 52,
      "outputs": [
        {
          "output_type": "execute_result",
          "data": {
            "text/plain": [
              "0.6"
            ]
          },
          "metadata": {},
          "execution_count": 52
        }
      ]
    },
    {
      "cell_type": "markdown",
      "metadata": {
        "id": "Ds_lQEjldV4p"
      },
      "source": [
        "Событья A2 что рабочий вытащит окрашеную деталь второй раз"
      ]
    },
    {
      "cell_type": "code",
      "metadata": {
        "colab": {
          "base_uri": "https://localhost:8080/"
        },
        "id": "jfuf-xsHdVf_",
        "outputId": "f4216bd4-7383-40e2-86d7-442ca9597f44"
      },
      "source": [
        "A2_3 = (8/14)*A1_3\n",
        "A2_3"
      ],
      "execution_count": 53,
      "outputs": [
        {
          "output_type": "execute_result",
          "data": {
            "text/plain": [
              "0.3428571428571428"
            ]
          },
          "metadata": {},
          "execution_count": 53
        }
      ]
    },
    {
      "cell_type": "markdown",
      "metadata": {
        "id": "ICPvV1TLdXqZ"
      },
      "source": [
        "Событья A3 что рабочий вытащит окрашеную деталь третий раз"
      ]
    },
    {
      "cell_type": "code",
      "metadata": {
        "colab": {
          "base_uri": "https://localhost:8080/"
        },
        "id": "3cpwlvLveKH2",
        "outputId": "61fb3d85-ace1-429f-c725-6c578a55bcc3"
      },
      "source": [
        "A3_3 = (7/13)*A2_3\n",
        "A3_3"
      ],
      "execution_count": 54,
      "outputs": [
        {
          "output_type": "execute_result",
          "data": {
            "text/plain": [
              "0.18461538461538457"
            ]
          },
          "metadata": {},
          "execution_count": 54
        }
      ]
    },
    {
      "cell_type": "markdown",
      "metadata": {
        "id": "5BiKWuiGeKZe"
      },
      "source": [
        "Вероятность того, что все извлеченные детали окрашены P = A1 * A2 * A3"
      ]
    },
    {
      "cell_type": "code",
      "metadata": {
        "colab": {
          "base_uri": "https://localhost:8080/",
          "height": 35
        },
        "id": "iaxjw-i8ZSSL",
        "outputId": "40e4da4c-0e60-4309-abe2-3b8a3949786e"
      },
      "source": [
        "P3 = (9/15) * (8/14) * (7/13)\n",
        "\"{:.1%}\".format(P3)"
      ],
      "execution_count": 55,
      "outputs": [
        {
          "output_type": "execute_result",
          "data": {
            "application/vnd.google.colaboratory.intrinsic+json": {
              "type": "string"
            },
            "text/plain": [
              "'18.5%'"
            ]
          },
          "metadata": {},
          "execution_count": 55
        }
      ]
    },
    {
      "cell_type": "markdown",
      "metadata": {
        "id": "ZtYySfjfaQHS"
      },
      "source": [
        "## 4. В лотерее 100 билетов. Из них 2 выигрышных. Какова вероятность того, что 2 приобретенных билета окажутся выигрышными?"
      ]
    },
    {
      "cell_type": "markdown",
      "metadata": {
        "id": "5oA4W1vybPgF"
      },
      "source": [
        "Событья A1 первый билет оказался выйгрышным"
      ]
    },
    {
      "cell_type": "code",
      "metadata": {
        "colab": {
          "base_uri": "https://localhost:8080/"
        },
        "id": "6H6OUSqxbNsG",
        "outputId": "c700ed76-2246-4151-9c15-0ed1012616ba"
      },
      "source": [
        " A1_4 = 2/100\n",
        " A1_4"
      ],
      "execution_count": 56,
      "outputs": [
        {
          "output_type": "execute_result",
          "data": {
            "text/plain": [
              "0.02"
            ]
          },
          "metadata": {},
          "execution_count": 56
        }
      ]
    },
    {
      "cell_type": "markdown",
      "metadata": {
        "id": "swjSbsJVbnIn"
      },
      "source": [
        "Событья A2 второй билет оказался выйгрышным"
      ]
    },
    {
      "cell_type": "code",
      "metadata": {
        "colab": {
          "base_uri": "https://localhost:8080/"
        },
        "id": "Q79r0hQabn3d",
        "outputId": "fe430ecd-6c8c-4c2a-9aa6-9981a01bb851"
      },
      "source": [
        "A2_4 = 1/99\n",
        "A2_4"
      ],
      "execution_count": 57,
      "outputs": [
        {
          "output_type": "execute_result",
          "data": {
            "text/plain": [
              "0.010101010101010102"
            ]
          },
          "metadata": {},
          "execution_count": 57
        }
      ]
    },
    {
      "cell_type": "markdown",
      "metadata": {
        "id": "2SN0Nm7obOn4"
      },
      "source": [
        "Вероятность того, что 2 приобретенных билета окажутся выигрышными"
      ]
    },
    {
      "cell_type": "code",
      "metadata": {
        "colab": {
          "base_uri": "https://localhost:8080/",
          "height": 35
        },
        "id": "0pOXcpPKaT21",
        "outputId": "8db2cd25-975d-4817-f70c-cab60a2df544"
      },
      "source": [
        "P4 = A1_4* A2_4\n",
        "\"{:.4%}\".format(P4)"
      ],
      "execution_count": 58,
      "outputs": [
        {
          "output_type": "execute_result",
          "data": {
            "application/vnd.google.colaboratory.intrinsic+json": {
              "type": "string"
            },
            "text/plain": [
              "'0.0202%'"
            ]
          },
          "metadata": {},
          "execution_count": 58
        }
      ]
    }
  ]
}