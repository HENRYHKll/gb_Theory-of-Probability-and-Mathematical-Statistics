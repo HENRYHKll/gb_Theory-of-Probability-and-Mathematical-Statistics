{
  "nbformat": 4,
  "nbformat_minor": 0,
  "metadata": {
    "colab": {
      "name": "hw3.ipynb",
      "provenance": []
    },
    "kernelspec": {
      "name": "python3",
      "display_name": "Python 3"
    },
    "language_info": {
      "name": "python"
    }
  },
  "cells": [
    {
      "cell_type": "markdown",
      "metadata": {
        "id": "eOF2hrsZRRN9"
      },
      "source": [
        "# Урок 3. Описательная статистика. Качественные и количественные характеристики популяции. Графическое представление данных"
      ]
    },
    {
      "cell_type": "markdown",
      "metadata": {
        "id": "uX6G_BRWRV5E"
      },
      "source": [
        "### 1. Даны значения зарплат из выборки выпускников: 100, 80, 75, 77, 89, 33, 45, 25, 65, 17, 30, 24, 57, 55, 70, 75, 65, 84, 90, 150. Посчитать (желательно без использования статистических методов наподобие std, var, mean) среднее арифметическое, среднее квадратичное отклонение, смещенную и несмещенную оценки дисперсий для данной выборки."
      ]
    },
    {
      "cell_type": "code",
      "metadata": {
        "id": "1rvexsVDRNm2"
      },
      "source": [
        "\n",
        "def mean (val):\n",
        "  sum_el = 0\n",
        "  for i in val:\n",
        "    sum_el += i\n",
        "  return sum_el/len(val)\n",
        "\n",
        "def Std(val, ddof = 0 ):\n",
        "  xl =  mean (val)\n",
        "  sum_el = 0\n",
        "  for i in val:\n",
        "    sum_el += (i - xl)**2\n",
        "  \n",
        "  return (sum_el/(len(val)-ddof))**0.5\n",
        "\n",
        "def Var (val):\n",
        "  sum_el = 0\n",
        "  sum_el_2 = 0\n",
        "  for i in val:\n",
        "    sum_el += i\n",
        "  for i in val:\n",
        "    sum_el_2 += i**2\n",
        "  \n",
        "  ((1/len(val))*sum_el )**2 \n",
        "  var = (1/len(val))*sum_el_2  - ((1/len(val))*sum_el )**2\n",
        "  return var\n",
        "\n",
        "\n",
        "salary = [100, 80, 75, 77, 89, 33, 45, 25, 65, 17, 30, 24, 57, 55, 70, 75,]\n",
        "\n"
      ],
      "execution_count": 1,
      "outputs": []
    },
    {
      "cell_type": "markdown",
      "metadata": {
        "id": "kj6bWesd8yHG"
      },
      "source": [
        "среднее арифметическое"
      ]
    },
    {
      "cell_type": "code",
      "metadata": {
        "colab": {
          "base_uri": "https://localhost:8080/"
        },
        "id": "RzFSmZZU8xhq",
        "outputId": "111bb362-7a4a-4fba-b1af-cedec350518d"
      },
      "source": [
        "mean(salary)"
      ],
      "execution_count": 2,
      "outputs": [
        {
          "output_type": "execute_result",
          "data": {
            "text/plain": [
              "57.3125"
            ]
          },
          "metadata": {},
          "execution_count": 2
        }
      ]
    },
    {
      "cell_type": "markdown",
      "metadata": {
        "id": "cs8LIB7l84JD"
      },
      "source": [
        "среднее квадратичное отклонение смещенная оценака дисперсии "
      ]
    },
    {
      "cell_type": "code",
      "metadata": {
        "colab": {
          "base_uri": "https://localhost:8080/"
        },
        "id": "QPnp6x7C84dK",
        "outputId": "073bb426-37f2-43ca-ce5f-e83e99991697"
      },
      "source": [
        "Std(salary)"
      ],
      "execution_count": 3,
      "outputs": [
        {
          "output_type": "execute_result",
          "data": {
            "text/plain": [
              "24.808563919541978"
            ]
          },
          "metadata": {},
          "execution_count": 3
        }
      ]
    },
    {
      "cell_type": "markdown",
      "metadata": {
        "id": "YGv_CyvXBGLy"
      },
      "source": [
        "среднее квадратичное отклонение несмещенная оценака дисперсии "
      ]
    },
    {
      "cell_type": "code",
      "metadata": {
        "colab": {
          "base_uri": "https://localhost:8080/"
        },
        "id": "XnAUqWLUBG1H",
        "outputId": "65febe49-0241-40ff-9890-2c55dd672b5f"
      },
      "source": [
        "Std(salary, 1)"
      ],
      "execution_count": 4,
      "outputs": [
        {
          "output_type": "execute_result",
          "data": {
            "text/plain": [
              "25.622174640988874"
            ]
          },
          "metadata": {},
          "execution_count": 4
        }
      ]
    },
    {
      "cell_type": "markdown",
      "metadata": {
        "id": "rJaRgyu1PIPe"
      },
      "source": [
        "дисперсия"
      ]
    },
    {
      "cell_type": "code",
      "metadata": {
        "colab": {
          "base_uri": "https://localhost:8080/"
        },
        "id": "snkIrDIfLAJ2",
        "outputId": "929da4d9-2d01-4bbd-c7bb-768457a4ed66"
      },
      "source": [
        "Var(salary)"
      ],
      "execution_count": 5,
      "outputs": [
        {
          "output_type": "execute_result",
          "data": {
            "text/plain": [
              "615.46484375"
            ]
          },
          "metadata": {},
          "execution_count": 5
        }
      ]
    },
    {
      "cell_type": "markdown",
      "metadata": {
        "id": "R6wnwjS2rfYM"
      },
      "source": [
        "### 2. В первом ящике находится 8 мячей, из которых 5 - белые. Во втором ящике - 12 мячей, из которых 5 белых. Из первого ящика вытаскивают случайным образом два мяча, из второго - 4. Какова вероятность того, что 3 мяча белые?"
      ]
    },
    {
      "cell_type": "code",
      "metadata": {
        "id": "dQbAJhwdPOBq"
      },
      "source": [
        "from math import factorial\n",
        "\n",
        "def combinations(n, k):\n",
        "  return int(factorial(n) / (factorial(k) * factorial(n - k)))"
      ],
      "execution_count": 6,
      "outputs": []
    },
    {
      "cell_type": "markdown",
      "metadata": {
        "id": "AMsNG5N9SKnq"
      },
      "source": [
        "# Первый ящик ○○○○○●●● Второй ящик ○○○○○●●●●●●●"
      ]
    },
    {
      "cell_type": "code",
      "metadata": {
        "colab": {
          "base_uri": "https://localhost:8080/",
          "height": 35
        },
        "id": "QlkU-T2cT8Fb",
        "outputId": "8865451e-f163-48a9-90e3-41a18ac684a7"
      },
      "source": [
        "PWW_WBBBB = combinations(5, 2)/combinations(8, 2)*(combinations(5, 1)*combinations(7, 3)/combinations(12, 4))\n",
        "PWB_WWBBB = (combinations(5, 1)*combinations(3, 1)/combinations(8, 2))*(combinations(5, 2)*combinations(7, 2)/combinations(12, 4))\n",
        "PBB_WWWBB=  combinations(3, 2)/combinations(8, 2)*(combinations(5, 3)*combinations(7, 1)/combinations(12, 4))\n",
        "P2 = PWW_WBBBB + PWB_WWBBB + PBB_WWWBB\n",
        "\"{:.2%}\".format(P2)"
      ],
      "execution_count": 7,
      "outputs": [
        {
          "output_type": "execute_result",
          "data": {
            "application/vnd.google.colaboratory.intrinsic+json": {
              "type": "string"
            },
            "text/plain": [
              "'36.87%'"
            ]
          },
          "metadata": {},
          "execution_count": 7
        }
      ]
    },
    {
      "cell_type": "markdown",
      "metadata": {
        "id": "xR1vjzEDrir5"
      },
      "source": [
        "### 3. На соревновании по биатлону один из трех спортсменов стреляет и попадает в мишень. Вероятность попадания для первого спортсмена равна 0.9, для второго — 0.8, для третьего — 0.6. Найти вероятность того, что выстрел произведен: "
      ]
    },
    {
      "cell_type": "code",
      "metadata": {
        "id": "yNSn_VqxY7AK",
        "colab": {
          "base_uri": "https://localhost:8080/"
        },
        "outputId": "c24fcfc7-37e1-4faf-856b-2ccf5bfea40a"
      },
      "source": [
        "p1 = 0.9\n",
        "q1 = 1 - 0.9\n",
        "p2 = 0.8 \n",
        "q2 = 1- 0.8\n",
        "p3 = 0.6\n",
        "q3 = 1- 0.6\n",
        "\n",
        "PA3 = 1/3*p1+1/3*p2+1/3*p3\n",
        "PA3"
      ],
      "execution_count": 27,
      "outputs": [
        {
          "output_type": "execute_result",
          "data": {
            "text/plain": [
              "0.7666666666666666"
            ]
          },
          "metadata": {},
          "execution_count": 27
        }
      ]
    },
    {
      "cell_type": "markdown",
      "metadata": {
        "id": "uf5yth_7bSjN"
      },
      "source": [
        "a). первым спортсменом "
      ]
    },
    {
      "cell_type": "code",
      "metadata": {
        "colab": {
          "base_uri": "https://localhost:8080/",
          "height": 35
        },
        "id": "kdJv5AJNbQv3",
        "outputId": "bf1539fc-10ca-4571-eff9-b0f20dd81f6c"
      },
      "source": [
        "X1 = 1/3*p1/PA3\n",
        "\"{:.2%}\".format(X1)"
      ],
      "execution_count": 32,
      "outputs": [
        {
          "output_type": "execute_result",
          "data": {
            "application/vnd.google.colaboratory.intrinsic+json": {
              "type": "string"
            },
            "text/plain": [
              "'39.13%'"
            ]
          },
          "metadata": {},
          "execution_count": 32
        }
      ]
    },
    {
      "cell_type": "markdown",
      "metadata": {
        "id": "fJSm97dWcLiS"
      },
      "source": [
        "б). вторым спортсменом"
      ]
    },
    {
      "cell_type": "code",
      "metadata": {
        "colab": {
          "base_uri": "https://localhost:8080/",
          "height": 35
        },
        "id": "IIH_I6ShcOMK",
        "outputId": "cc325b1c-60b3-4415-d22b-7f33d83075e0"
      },
      "source": [
        "X2 = 1/3*p2/PA3\n",
        "\"{:.2%}\".format(X1)"
      ],
      "execution_count": 33,
      "outputs": [
        {
          "output_type": "execute_result",
          "data": {
            "application/vnd.google.colaboratory.intrinsic+json": {
              "type": "string"
            },
            "text/plain": [
              "'39.13%'"
            ]
          },
          "metadata": {},
          "execution_count": 33
        }
      ]
    },
    {
      "cell_type": "markdown",
      "metadata": {
        "id": "023yYL-BcLIU"
      },
      "source": [
        " в). третьим спортсменом."
      ]
    },
    {
      "cell_type": "code",
      "metadata": {
        "colab": {
          "base_uri": "https://localhost:8080/",
          "height": 35
        },
        "id": "hIyt8e3ecYf5",
        "outputId": "5acb4518-2195-473c-9eff-28462e742fb7"
      },
      "source": [
        "X3 = 1/3*p3/PA3\n",
        "\"{:.2%}\".format(X1)"
      ],
      "execution_count": 34,
      "outputs": [
        {
          "output_type": "execute_result",
          "data": {
            "application/vnd.google.colaboratory.intrinsic+json": {
              "type": "string"
            },
            "text/plain": [
              "'39.13%'"
            ]
          },
          "metadata": {},
          "execution_count": 34
        }
      ]
    },
    {
      "cell_type": "markdown",
      "metadata": {
        "id": "Yxg2GhYw8Mcw"
      },
      "source": [
        "Проверка"
      ]
    },
    {
      "cell_type": "code",
      "metadata": {
        "colab": {
          "base_uri": "https://localhost:8080/"
        },
        "id": "9g_N1H358N2_",
        "outputId": "ad6e9eed-3706-4fdf-917c-af08378524f1"
      },
      "source": [
        "XALL=X1+X2+X3\n",
        "XALL"
      ],
      "execution_count": 35,
      "outputs": [
        {
          "output_type": "execute_result",
          "data": {
            "text/plain": [
              "1.0"
            ]
          },
          "metadata": {},
          "execution_count": 35
        }
      ]
    },
    {
      "cell_type": "markdown",
      "metadata": {
        "id": "eH31LdgvroEf"
      },
      "source": [
        "### 4. В университет на факультеты A и B поступило равное количество студентов, а на факультет C студентов поступило столько же, сколько на A и B вместе. Вероятность того, что студент факультета A сдаст первую сессию, равна 0.8. Для студента факультета B эта вероятность равна 0.7, а для студента факультета C - 0.9. Студент сдал первую сессию. Какова вероятность, что он учится: "
      ]
    },
    {
      "cell_type": "markdown",
      "metadata": {
        "id": "eyl6d8RCft2J"
      },
      "source": [
        "*   Вероятность, что студент учится на факультете А P(A) = 0.25\n",
        "*   Вероятность, что студент учится на факультете B P(B) = 0.25\n",
        "*   Вероятность, что студент учится на факультете C P(C) = 0.50\n",
        "\n",
        "Вероятность сдачи \n",
        "*   P(A(a)) = 0.8\n",
        "*   P(B(b)) = 0.7\n",
        "*   P(C(c)) = 0.9\n",
        "\n",
        "Найдем вероятность что все сдадут"
      ]
    },
    {
      "cell_type": "code",
      "metadata": {
        "colab": {
          "base_uri": "https://localhost:8080/",
          "height": 35
        },
        "id": "A9tT0bJEfs-f",
        "outputId": "7c0800fc-2120-4431-a2ee-fa778d6ccfa1"
      },
      "source": [
        "P41 = 0.25 * 0.8 + 0.25 * 0.7 + 0.5  * 0.9\n",
        "\"{:.2%}\".format(P41)"
      ],
      "execution_count": 12,
      "outputs": [
        {
          "output_type": "execute_result",
          "data": {
            "application/vnd.google.colaboratory.intrinsic+json": {
              "type": "string"
            },
            "text/plain": [
              "'82.50%'"
            ]
          },
          "metadata": {},
          "execution_count": 12
        }
      ]
    },
    {
      "cell_type": "markdown",
      "metadata": {
        "id": "RiUwKhCMjZfd"
      },
      "source": [
        "a). на факультете A"
      ]
    },
    {
      "cell_type": "code",
      "metadata": {
        "colab": {
          "base_uri": "https://localhost:8080/",
          "height": 35
        },
        "id": "nLHMP_RIjaIU",
        "outputId": "762b130a-0432-4b65-c8cc-eb4cb8f90d87"
      },
      "source": [
        "P42 = 0.25 * 0.8 / P41\n",
        "\"{:.2%}\".format(P42)"
      ],
      "execution_count": 13,
      "outputs": [
        {
          "output_type": "execute_result",
          "data": {
            "application/vnd.google.colaboratory.intrinsic+json": {
              "type": "string"
            },
            "text/plain": [
              "'24.24%'"
            ]
          },
          "metadata": {},
          "execution_count": 13
        }
      ]
    },
    {
      "cell_type": "markdown",
      "metadata": {
        "id": "61C2Dv0_jzLA"
      },
      "source": [
        "б). на факультете B "
      ]
    },
    {
      "cell_type": "code",
      "metadata": {
        "colab": {
          "base_uri": "https://localhost:8080/",
          "height": 35
        },
        "id": "UZZggy29j7Sz",
        "outputId": "454b5580-052a-4218-ed06-b62c18fb45ed"
      },
      "source": [
        "P43 = 0.25 * 0.7 / P41\n",
        "\"{:.2%}\".format(P43)"
      ],
      "execution_count": 14,
      "outputs": [
        {
          "output_type": "execute_result",
          "data": {
            "application/vnd.google.colaboratory.intrinsic+json": {
              "type": "string"
            },
            "text/plain": [
              "'21.21%'"
            ]
          },
          "metadata": {},
          "execution_count": 14
        }
      ]
    },
    {
      "cell_type": "markdown",
      "metadata": {
        "id": "4bChRMb9j7te"
      },
      "source": [
        "в). на факультете C"
      ]
    },
    {
      "cell_type": "code",
      "metadata": {
        "colab": {
          "base_uri": "https://localhost:8080/",
          "height": 35
        },
        "id": "UXV2V9Buj8VF",
        "outputId": "5a55a808-d531-432c-e599-807ae528b105"
      },
      "source": [
        "P44 = 0.5 * 0.9 / P41\n",
        "\"{:.2%}\".format(P44)"
      ],
      "execution_count": 15,
      "outputs": [
        {
          "output_type": "execute_result",
          "data": {
            "application/vnd.google.colaboratory.intrinsic+json": {
              "type": "string"
            },
            "text/plain": [
              "'54.55%'"
            ]
          },
          "metadata": {},
          "execution_count": 15
        }
      ]
    },
    {
      "cell_type": "markdown",
      "metadata": {
        "id": "xs6Gb5gzrsL0"
      },
      "source": [
        "### 5. Устройство состоит из трех деталей. Для первой детали вероятность выйти из строя в первый месяц равна 0.1, для второй - 0.2, для третьей - 0.25. Какова вероятность того, что в первый месяц выйдут из строя:"
      ]
    },
    {
      "cell_type": "markdown",
      "metadata": {
        "id": "FMVv6-s_mFBz"
      },
      "source": [
        "Рассматриваем события Ai = (Деталь i выфшла из строя за месяц), i=1,2,3. \n",
        "\n",
        "\n",
        "> По условию даны вероятности:\n",
        "\n"
      ]
    },
    {
      "cell_type": "code",
      "metadata": {
        "id": "fuOwcJ9elvDS"
      },
      "source": [
        "p51=0.1\n",
        "p52=0.2\n",
        "p53=0.25"
      ],
      "execution_count": 16,
      "outputs": []
    },
    {
      "cell_type": "markdown",
      "metadata": {
        "id": "wZhTvqJ3pzXr"
      },
      "source": [
        "Тогда"
      ]
    },
    {
      "cell_type": "code",
      "metadata": {
        "id": "3lkjPuanp1Mp"
      },
      "source": [
        "q51=0.9\n",
        "q52=0.8\n",
        "q53=0.75"
      ],
      "execution_count": 17,
      "outputs": []
    },
    {
      "cell_type": "markdown",
      "metadata": {
        "id": "Ym8u0NVKp9Py"
      },
      "source": [
        " а). все детали"
      ]
    },
    {
      "cell_type": "code",
      "metadata": {
        "colab": {
          "base_uri": "https://localhost:8080/",
          "height": 35
        },
        "id": "VlY950x5qXcv",
        "outputId": "43535751-4e25-43cc-f823-4e920dc446ce"
      },
      "source": [
        "X51 = p51 * p52 * p53\n",
        "\"{:.2%}\".format(X51)"
      ],
      "execution_count": 18,
      "outputs": [
        {
          "output_type": "execute_result",
          "data": {
            "application/vnd.google.colaboratory.intrinsic+json": {
              "type": "string"
            },
            "text/plain": [
              "'0.50%'"
            ]
          },
          "metadata": {},
          "execution_count": 18
        }
      ]
    },
    {
      "cell_type": "markdown",
      "metadata": {
        "id": "kBoT7tblrUEH"
      },
      "source": [
        " б). только две детали "
      ]
    },
    {
      "cell_type": "code",
      "metadata": {
        "colab": {
          "base_uri": "https://localhost:8080/",
          "height": 35
        },
        "id": "Z21IuoXVrYbW",
        "outputId": "f70c83a9-d4ce-4ec9-c831-f1ec8265bf36"
      },
      "source": [
        "X52 = p51 * p52 * q53 + p51 * q52 * p53 + q51 * p52 * p53\n",
        "\"{:.2%}\".format(X52)"
      ],
      "execution_count": 19,
      "outputs": [
        {
          "output_type": "execute_result",
          "data": {
            "application/vnd.google.colaboratory.intrinsic+json": {
              "type": "string"
            },
            "text/plain": [
              "'8.00%'"
            ]
          },
          "metadata": {},
          "execution_count": 19
        }
      ]
    },
    {
      "cell_type": "markdown",
      "metadata": {
        "id": "XGOBmkuPr4Q_"
      },
      "source": [
        "в). хотя бы одна деталь "
      ]
    },
    {
      "cell_type": "code",
      "metadata": {
        "colab": {
          "base_uri": "https://localhost:8080/",
          "height": 35
        },
        "id": "iqm2xGlQr0io",
        "outputId": "5fba3707-6139-4a53-c553-4c40cc573e55"
      },
      "source": [
        "X53 =1-q51*q52*q53\n",
        "\"{:.2%}\".format(X53)"
      ],
      "execution_count": 38,
      "outputs": [
        {
          "output_type": "execute_result",
          "data": {
            "application/vnd.google.colaboratory.intrinsic+json": {
              "type": "string"
            },
            "text/plain": [
              "'46.00%'"
            ]
          },
          "metadata": {},
          "execution_count": 38
        }
      ]
    },
    {
      "cell_type": "markdown",
      "metadata": {
        "id": "YwpZKUD4r2gS"
      },
      "source": [
        "г). от одной до двух деталей?"
      ]
    },
    {
      "cell_type": "code",
      "metadata": {
        "colab": {
          "base_uri": "https://localhost:8080/",
          "height": 35
        },
        "id": "fr_WNHwFsYVO",
        "outputId": "ca928568-063f-4d54-cb41-cec91da769ce"
      },
      "source": [
        "X54 = X53 - p51*p52*p53\n",
        "\"{:.2%}\".format(X54)"
      ],
      "execution_count": 40,
      "outputs": [
        {
          "output_type": "execute_result",
          "data": {
            "application/vnd.google.colaboratory.intrinsic+json": {
              "type": "string"
            },
            "text/plain": [
              "'45.50%'"
            ]
          },
          "metadata": {},
          "execution_count": 40
        }
      ]
    }
  ]
}