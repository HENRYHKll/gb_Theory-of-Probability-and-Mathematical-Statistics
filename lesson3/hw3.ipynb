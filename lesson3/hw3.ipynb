{
  "nbformat": 4,
  "nbformat_minor": 0,
  "metadata": {
    "colab": {
      "name": "hw3.ipynb",
      "provenance": []
    },
    "kernelspec": {
      "name": "python3",
      "display_name": "Python 3"
    },
    "language_info": {
      "name": "python"
    }
  },
  "cells": [
    {
      "cell_type": "markdown",
      "metadata": {
        "id": "eOF2hrsZRRN9"
      },
      "source": [
        "# Урок 3. Описательная статистика. Качественные и количественные характеристики популяции. Графическое представление данных"
      ]
    },
    {
      "cell_type": "markdown",
      "metadata": {
        "id": "uX6G_BRWRV5E"
      },
      "source": [
        "### 1. Даны значения зарплат из выборки выпускников: 100, 80, 75, 77, 89, 33, 45, 25, 65, 17, 30, 24, 57, 55, 70, 75, 65, 84, 90, 150. Посчитать (желательно без использования статистических методов наподобие std, var, mean) среднее арифметическое, среднее квадратичное отклонение, смещенную и несмещенную оценки дисперсий для данной выборки."
      ]
    },
    {
      "cell_type": "code",
      "metadata": {
        "id": "1rvexsVDRNm2"
      },
      "source": [
        "\n",
        "def mean (val):\n",
        "  sum_el = 0\n",
        "  for i in val:\n",
        "    sum_el += i\n",
        "  return sum_el/len(val)\n",
        "\n",
        "def Std(val, ddof = 0 ):\n",
        "  xl =  mean (val)\n",
        "  sum_el = 0\n",
        "  for i in val:\n",
        "    sum_el += (i - xl)**2\n",
        "  \n",
        "  return (sum_el/(len(val)-ddof))**0.5\n",
        "\n",
        "def Var (val):\n",
        "  sum_el = 0\n",
        "  sum_el_2 = 0\n",
        "  for i in val:\n",
        "    sum_el += i\n",
        "  for i in val:\n",
        "    sum_el_2 += i**2\n",
        "  \n",
        "  ((1/len(val))*sum_el )**2 \n",
        "  var = (1/len(val))*sum_el_2  - ((1/len(val))*sum_el )**2\n",
        "  return var\n",
        "\n",
        "\n",
        "salary = [100, 80, 75, 77, 89, 33, 45, 25, 65, 17, 30, 24, 57, 55, 70, 75,]\n",
        "\n"
      ],
      "execution_count": 27,
      "outputs": []
    },
    {
      "cell_type": "markdown",
      "metadata": {
        "id": "kj6bWesd8yHG"
      },
      "source": [
        "среднее арифметическое"
      ]
    },
    {
      "cell_type": "code",
      "metadata": {
        "colab": {
          "base_uri": "https://localhost:8080/"
        },
        "id": "RzFSmZZU8xhq",
        "outputId": "c2aefb37-5444-4699-aa2a-1613a09d267c"
      },
      "source": [
        "mean(salary)"
      ],
      "execution_count": 7,
      "outputs": [
        {
          "output_type": "execute_result",
          "data": {
            "text/plain": [
              "57.3125"
            ]
          },
          "metadata": {},
          "execution_count": 7
        }
      ]
    },
    {
      "cell_type": "markdown",
      "metadata": {
        "id": "cs8LIB7l84JD"
      },
      "source": [
        "среднее квадратичное отклонение смещенная оценака дисперсии "
      ]
    },
    {
      "cell_type": "code",
      "metadata": {
        "colab": {
          "base_uri": "https://localhost:8080/"
        },
        "id": "QPnp6x7C84dK",
        "outputId": "ba758bf6-78cf-4cf5-ba58-65043d6e5201"
      },
      "source": [
        "Std(salary)"
      ],
      "execution_count": 6,
      "outputs": [
        {
          "output_type": "execute_result",
          "data": {
            "text/plain": [
              "24.808563919541978"
            ]
          },
          "metadata": {},
          "execution_count": 6
        }
      ]
    },
    {
      "cell_type": "markdown",
      "metadata": {
        "id": "YGv_CyvXBGLy"
      },
      "source": [
        "среднее квадратичное отклонение несмещенная оценака дисперсии "
      ]
    },
    {
      "cell_type": "code",
      "metadata": {
        "colab": {
          "base_uri": "https://localhost:8080/"
        },
        "id": "XnAUqWLUBG1H",
        "outputId": "a4edf69d-1b30-4f86-caaf-e093649797b0"
      },
      "source": [
        "Std(salary, 1)"
      ],
      "execution_count": 16,
      "outputs": [
        {
          "output_type": "execute_result",
          "data": {
            "text/plain": [
              "25.622174640988874"
            ]
          },
          "metadata": {},
          "execution_count": 16
        }
      ]
    },
    {
      "cell_type": "markdown",
      "metadata": {
        "id": "rJaRgyu1PIPe"
      },
      "source": [
        "дисперсия"
      ]
    },
    {
      "cell_type": "code",
      "metadata": {
        "colab": {
          "base_uri": "https://localhost:8080/"
        },
        "id": "snkIrDIfLAJ2",
        "outputId": "c5bed44a-31c0-4c4e-bea6-edcf9f684a1f"
      },
      "source": [
        "Var(salary)"
      ],
      "execution_count": 28,
      "outputs": [
        {
          "output_type": "execute_result",
          "data": {
            "text/plain": [
              "615.46484375"
            ]
          },
          "metadata": {},
          "execution_count": 28
        }
      ]
    },
    {
      "cell_type": "markdown",
      "metadata": {
        "id": "R6wnwjS2rfYM"
      },
      "source": [
        "### 2. В первом ящике находится 8 мячей, из которых 5 - белые. Во втором ящике - 12 мячей, из которых 5 белых. Из первого ящика вытаскивают случайным образом два мяча, из второго - 4. Какова вероятность того, что 3 мяча белые?"
      ]
    },
    {
      "cell_type": "code",
      "metadata": {
        "id": "dQbAJhwdPOBq"
      },
      "source": [
        "from math import factorial\n",
        "\n",
        "def combinations(n, k):\n",
        "  return int(factorial(n) / (factorial(k) * factorial(n - k)))"
      ],
      "execution_count": 30,
      "outputs": []
    },
    {
      "cell_type": "markdown",
      "metadata": {
        "id": "AMsNG5N9SKnq"
      },
      "source": [
        "# Первый ящик ○○○○○●●● Второй ящик ○○○○○●●●●●●●"
      ]
    },
    {
      "cell_type": "code",
      "metadata": {
        "colab": {
          "base_uri": "https://localhost:8080/",
          "height": 35
        },
        "id": "QlkU-T2cT8Fb",
        "outputId": "66eeaee1-58db-4731-cf87-981a158a814e"
      },
      "source": [
        "PWW_WBBBB = combinations(5, 2)/combinations(8, 2)*(combinations(5, 1)*combinations(7, 3)/combinations(12, 4))\n",
        "PWB_WWBBB = (combinations(5, 1)*combinations(3, 1)/combinations(8, 2))*(combinations(5, 2)*combinations(7, 2)/combinations(12, 4))\n",
        "PBB_WWWBB=  combinations(3, 2)/combinations(8, 2)*(combinations(5, 3)*combinations(7, 1)/combinations(12, 4))\n",
        "P2 = PWW_WBBBB + PWB_WWBBB + PBB_WWWBB\n",
        "\"{:.2%}\".format(P2)"
      ],
      "execution_count": 31,
      "outputs": [
        {
          "output_type": "execute_result",
          "data": {
            "application/vnd.google.colaboratory.intrinsic+json": {
              "type": "string"
            },
            "text/plain": [
              "'36.87%'"
            ]
          },
          "metadata": {},
          "execution_count": 31
        }
      ]
    },
    {
      "cell_type": "markdown",
      "metadata": {
        "id": "xR1vjzEDrir5"
      },
      "source": [
        "### 3. На соревновании по биатлону один из трех спортсменов стреляет и попадает в мишень. Вероятность попадания для первого спортсмена равна 0.9, для второго — 0.8, для третьего — 0.6. Найти вероятность того, что выстрел произведен: "
      ]
    },
    {
      "cell_type": "code",
      "metadata": {
        "id": "yNSn_VqxY7AK"
      },
      "source": [
        "p1 = 0.9\n",
        "q1 = 1 - 0.9\n",
        "p2 = 0.8 \n",
        "q2 = 1- 0.8\n",
        "p3 = 0.6\n",
        "q3 = 1- 0.6\n",
        " "
      ],
      "execution_count": 33,
      "outputs": []
    },
    {
      "cell_type": "markdown",
      "metadata": {
        "id": "uf5yth_7bSjN"
      },
      "source": [
        "a). первым спортсменом "
      ]
    },
    {
      "cell_type": "code",
      "metadata": {
        "colab": {
          "base_uri": "https://localhost:8080/",
          "height": 35
        },
        "id": "kdJv5AJNbQv3",
        "outputId": "643f3165-eada-4301-f1a6-cdb2f3837393"
      },
      "source": [
        "X1 = p1 * q2 * q3\n",
        "\"{:.2%}\".format(X1)"
      ],
      "execution_count": 40,
      "outputs": [
        {
          "output_type": "execute_result",
          "data": {
            "application/vnd.google.colaboratory.intrinsic+json": {
              "type": "string"
            },
            "text/plain": [
              "'7.20%'"
            ]
          },
          "metadata": {},
          "execution_count": 40
        }
      ]
    },
    {
      "cell_type": "markdown",
      "metadata": {
        "id": "fJSm97dWcLiS"
      },
      "source": [
        "б). вторым спортсменом"
      ]
    },
    {
      "cell_type": "code",
      "metadata": {
        "colab": {
          "base_uri": "https://localhost:8080/",
          "height": 35
        },
        "id": "IIH_I6ShcOMK",
        "outputId": "956d6b2a-f2db-4b0f-f55b-1a7fb14d767d"
      },
      "source": [
        "X2 = q1 * p2 * q3\n",
        "\"{:.2%}\".format(X1)"
      ],
      "execution_count": 42,
      "outputs": [
        {
          "output_type": "execute_result",
          "data": {
            "application/vnd.google.colaboratory.intrinsic+json": {
              "type": "string"
            },
            "text/plain": [
              "'7.20%'"
            ]
          },
          "metadata": {},
          "execution_count": 42
        }
      ]
    },
    {
      "cell_type": "markdown",
      "metadata": {
        "id": "023yYL-BcLIU"
      },
      "source": [
        " в). третьим спортсменом."
      ]
    },
    {
      "cell_type": "code",
      "metadata": {
        "colab": {
          "base_uri": "https://localhost:8080/",
          "height": 35
        },
        "id": "hIyt8e3ecYf5",
        "outputId": "23b634db-a181-44ed-d744-3b6976594718"
      },
      "source": [
        "X1 = q1 * q2 * p3\n",
        "\"{:.2%}\".format(X1)"
      ],
      "execution_count": 39,
      "outputs": [
        {
          "output_type": "execute_result",
          "data": {
            "application/vnd.google.colaboratory.intrinsic+json": {
              "type": "string"
            },
            "text/plain": [
              "'1.20%'"
            ]
          },
          "metadata": {},
          "execution_count": 39
        }
      ]
    },
    {
      "cell_type": "markdown",
      "metadata": {
        "id": "eH31LdgvroEf"
      },
      "source": [
        "### 4. В университет на факультеты A и B поступило равное количество студентов, а на факультет C студентов поступило столько же, сколько на A и B вместе. Вероятность того, что студент факультета A сдаст первую сессию, равна 0.8. Для студента факультета B эта вероятность равна 0.7, а для студента факультета C - 0.9. Студент сдал первую сессию. Какова вероятность, что он учится: "
      ]
    },
    {
      "cell_type": "markdown",
      "metadata": {
        "id": "eyl6d8RCft2J"
      },
      "source": [
        "*   Вероятность, что студент учится на факультете А P(A) = 0.25\n",
        "*   Вероятность, что студент учится на факультете B P(B) = 0.25\n",
        "*   Вероятность, что студент учится на факультете C P(C) = 0.50\n",
        "\n",
        "Вероятность сдачи \n",
        "*   P(A(a)) = 0.8\n",
        "*   P(B(b)) = 0.7\n",
        "*   P(C(c)) = 0.9\n",
        "\n",
        "Найдем вероятность что все сдадут"
      ]
    },
    {
      "cell_type": "code",
      "metadata": {
        "colab": {
          "base_uri": "https://localhost:8080/",
          "height": 35
        },
        "id": "A9tT0bJEfs-f",
        "outputId": "fb3eea4a-7fd6-4750-c9ff-6328981980ba"
      },
      "source": [
        "P41 = 0.25 * 0.8 + 0.25 * 0.7 + 0.5  * 0.9\n",
        "\"{:.2%}\".format(P41)"
      ],
      "execution_count": 44,
      "outputs": [
        {
          "output_type": "execute_result",
          "data": {
            "application/vnd.google.colaboratory.intrinsic+json": {
              "type": "string"
            },
            "text/plain": [
              "'82.50%'"
            ]
          },
          "metadata": {},
          "execution_count": 44
        }
      ]
    },
    {
      "cell_type": "markdown",
      "metadata": {
        "id": "RiUwKhCMjZfd"
      },
      "source": [
        "a). на факультете A"
      ]
    },
    {
      "cell_type": "code",
      "metadata": {
        "colab": {
          "base_uri": "https://localhost:8080/",
          "height": 35
        },
        "id": "nLHMP_RIjaIU",
        "outputId": "fd757ff2-3263-4bcc-e1ee-30633639513c"
      },
      "source": [
        "P42 = 0.25 * 0.8 / P41\n",
        "\"{:.2%}\".format(P42)"
      ],
      "execution_count": 45,
      "outputs": [
        {
          "output_type": "execute_result",
          "data": {
            "application/vnd.google.colaboratory.intrinsic+json": {
              "type": "string"
            },
            "text/plain": [
              "'24.24%'"
            ]
          },
          "metadata": {},
          "execution_count": 45
        }
      ]
    },
    {
      "cell_type": "markdown",
      "metadata": {
        "id": "61C2Dv0_jzLA"
      },
      "source": [
        "б). на факультете B "
      ]
    },
    {
      "cell_type": "code",
      "metadata": {
        "colab": {
          "base_uri": "https://localhost:8080/",
          "height": 35
        },
        "id": "UZZggy29j7Sz",
        "outputId": "8b3055e1-e082-485c-d27d-6a497b432ae7"
      },
      "source": [
        "P43 = 0.25 * 0.7 / P41\n",
        "\"{:.2%}\".format(P43)"
      ],
      "execution_count": 47,
      "outputs": [
        {
          "output_type": "execute_result",
          "data": {
            "application/vnd.google.colaboratory.intrinsic+json": {
              "type": "string"
            },
            "text/plain": [
              "'21.21%'"
            ]
          },
          "metadata": {},
          "execution_count": 47
        }
      ]
    },
    {
      "cell_type": "markdown",
      "metadata": {
        "id": "4bChRMb9j7te"
      },
      "source": [
        "в). на факультете C"
      ]
    },
    {
      "cell_type": "code",
      "metadata": {
        "colab": {
          "base_uri": "https://localhost:8080/",
          "height": 35
        },
        "id": "UXV2V9Buj8VF",
        "outputId": "2b822ccc-8e0e-454e-cffd-c9fcfd34f2f8"
      },
      "source": [
        "P44 = 0.5 * 0.9 / P41\n",
        "\"{:.2%}\".format(P44)"
      ],
      "execution_count": 48,
      "outputs": [
        {
          "output_type": "execute_result",
          "data": {
            "application/vnd.google.colaboratory.intrinsic+json": {
              "type": "string"
            },
            "text/plain": [
              "'54.55%'"
            ]
          },
          "metadata": {},
          "execution_count": 48
        }
      ]
    },
    {
      "cell_type": "markdown",
      "metadata": {
        "id": "xs6Gb5gzrsL0"
      },
      "source": [
        "### 5. Устройство состоит из трех деталей. Для первой детали вероятность выйти из строя в первый месяц равна 0.1, для второй - 0.2, для третьей - 0.25. Какова вероятность того, что в первый месяц выйдут из строя:"
      ]
    },
    {
      "cell_type": "markdown",
      "metadata": {
        "id": "FMVv6-s_mFBz"
      },
      "source": [
        "Рассматриваем события Ai = (Деталь i выфшла из строя за месяц), i=1,2,3. \n",
        "\n",
        "\n",
        "> По условию даны вероятности:\n",
        "\n"
      ]
    },
    {
      "cell_type": "code",
      "metadata": {
        "id": "fuOwcJ9elvDS"
      },
      "source": [
        "p51=0.1\n",
        "p52=0.2\n",
        "p53=0.25"
      ],
      "execution_count": 51,
      "outputs": []
    },
    {
      "cell_type": "markdown",
      "metadata": {
        "id": "wZhTvqJ3pzXr"
      },
      "source": [
        "Тогда"
      ]
    },
    {
      "cell_type": "code",
      "metadata": {
        "id": "3lkjPuanp1Mp"
      },
      "source": [
        "q51=0.9\n",
        "q52=0.8\n",
        "q53=0.75"
      ],
      "execution_count": 52,
      "outputs": []
    },
    {
      "cell_type": "markdown",
      "metadata": {
        "id": "Ym8u0NVKp9Py"
      },
      "source": [
        " а). все детали"
      ]
    },
    {
      "cell_type": "code",
      "metadata": {
        "colab": {
          "base_uri": "https://localhost:8080/",
          "height": 35
        },
        "id": "VlY950x5qXcv",
        "outputId": "9406b845-7ac4-4f82-a524-f9391588dc3f"
      },
      "source": [
        "X51 = p51 * p52 * p53\n",
        "\"{:.2%}\".format(X51)"
      ],
      "execution_count": 53,
      "outputs": [
        {
          "output_type": "execute_result",
          "data": {
            "application/vnd.google.colaboratory.intrinsic+json": {
              "type": "string"
            },
            "text/plain": [
              "'0.50%'"
            ]
          },
          "metadata": {},
          "execution_count": 53
        }
      ]
    },
    {
      "cell_type": "markdown",
      "metadata": {
        "id": "kBoT7tblrUEH"
      },
      "source": [
        " б). только две детали "
      ]
    },
    {
      "cell_type": "code",
      "metadata": {
        "colab": {
          "base_uri": "https://localhost:8080/",
          "height": 35
        },
        "id": "Z21IuoXVrYbW",
        "outputId": "88364d45-f4e3-445d-a963-a41c7a814be7"
      },
      "source": [
        "X52 = p51 * p52 * q53 + p51 * q52 * p53 + q51 * p52 * p53\n",
        "\"{:.2%}\".format(X52)"
      ],
      "execution_count": 54,
      "outputs": [
        {
          "output_type": "execute_result",
          "data": {
            "application/vnd.google.colaboratory.intrinsic+json": {
              "type": "string"
            },
            "text/plain": [
              "'8.00%'"
            ]
          },
          "metadata": {},
          "execution_count": 54
        }
      ]
    },
    {
      "cell_type": "markdown",
      "metadata": {
        "id": "XGOBmkuPr4Q_"
      },
      "source": [
        "в). хотя бы одна деталь "
      ]
    },
    {
      "cell_type": "code",
      "metadata": {
        "colab": {
          "base_uri": "https://localhost:8080/",
          "height": 35
        },
        "id": "iqm2xGlQr0io",
        "outputId": "af3bab5e-d4b3-4360-acca-d2225cb0e97e"
      },
      "source": [
        "X53 = p51 * q52 * q53 + q51 * q52 * p53 + p51 * q52 * p53\n",
        "\"{:.2%}\".format(X53)"
      ],
      "execution_count": 55,
      "outputs": [
        {
          "output_type": "execute_result",
          "data": {
            "application/vnd.google.colaboratory.intrinsic+json": {
              "type": "string"
            },
            "text/plain": [
              "'26.00%'"
            ]
          },
          "metadata": {},
          "execution_count": 55
        }
      ]
    },
    {
      "cell_type": "markdown",
      "metadata": {
        "id": "YwpZKUD4r2gS"
      },
      "source": [
        "г). от одной до двух деталей?"
      ]
    },
    {
      "cell_type": "code",
      "metadata": {
        "colab": {
          "base_uri": "https://localhost:8080/",
          "height": 35
        },
        "id": "fr_WNHwFsYVO",
        "outputId": "25c1ecc4-be8a-4906-b6dd-5a91be819ecd"
      },
      "source": [
        "X54 = X52 + X53\n",
        "\"{:.2%}\".format(X54)"
      ],
      "execution_count": 56,
      "outputs": [
        {
          "output_type": "execute_result",
          "data": {
            "application/vnd.google.colaboratory.intrinsic+json": {
              "type": "string"
            },
            "text/plain": [
              "'34.00%'"
            ]
          },
          "metadata": {},
          "execution_count": 56
        }
      ]
    }
  ]
}