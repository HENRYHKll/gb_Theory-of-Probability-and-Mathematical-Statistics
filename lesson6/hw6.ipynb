{
  "nbformat": 4,
  "nbformat_minor": 0,
  "metadata": {
    "colab": {
      "name": "hw6.ipynb",
      "provenance": []
    },
    "kernelspec": {
      "name": "python3",
      "display_name": "Python 3"
    },
    "language_info": {
      "name": "python"
    }
  },
  "cells": [
    {
      "cell_type": "markdown",
      "metadata": {
        "id": "KEkbVvfHx-e_"
      },
      "source": [
        "# Урок 6. Взаимосвязь величин. Параметрические и непараметрические показатели корреляции. Корреляционный анализ."
      ]
    },
    {
      "cell_type": "markdown",
      "metadata": {
        "id": "SeOmuz1QyA7V"
      },
      "source": [
        "## 1. Даны значения величины заработной платы заемщиков банка (zp) и значения их поведенческого кредитного скоринга (ks):\n",
        "## zp = [35, 45, 190, 200, 40, 70, 54, 150, 120, 110],\n",
        "## ks = [401, 574, 874, 919, 459, 739, 653, 902, 746, 832].\n",
        "## Найдите ковариацию этих двух величин с помощью элементарных действий, а затем с помощью функции cov из numpy Полученные значения должны быть равны. Найдите коэффициент корреляции Пирсона с помощью ковариации и среднеквадратичных отклонений двух признаков, а затем с использованием функций из библиотек numpy и pandas."
      ]
    },
    {
      "cell_type": "code",
      "metadata": {
        "colab": {
          "base_uri": "https://localhost:8080/",
          "height": 35
        },
        "id": "-P-PEbzh42iU",
        "outputId": "e100954f-1d1a-45d7-e849-116df3b3d1da"
      },
      "source": [
        "import numpy as np\n",
        "\n",
        "zp = np.array([35, 45, 190, 200, 40, 70, 54, 150, 120, 110])\n",
        "\n",
        "ks = np.array([401, 574, 874, 919, 459, 739, 653, 902, 746, 832])\n",
        "\n",
        "cov_1_1 = np.mean(zp*ks) - np.mean(zp) * np.mean(ks)\n",
        "cov_1_2 = np.cov(zp , ks, ddof=0)\n",
        "\n",
        "f'{cov_1_1} {cov_1_2}'"
      ],
      "execution_count": 4,
      "outputs": [
        {
          "output_type": "execute_result",
          "data": {
            "application/vnd.google.colaboratory.intrinsic+json": {
              "type": "string"
            },
            "text/plain": [
              "'9157.839999999997 [[ 3494.64  9157.84]\\n [ 9157.84 30468.89]]'"
            ]
          },
          "metadata": {},
          "execution_count": 4
        }
      ]
    },
    {
      "cell_type": "code",
      "metadata": {
        "colab": {
          "base_uri": "https://localhost:8080/"
        },
        "id": "21_TB7HOATau",
        "outputId": "3ed46429-cfe1-4ea1-839f-11707f6d029f"
      },
      "source": [
        "std_1_zp = np.std(zp)\n",
        "std_1_ks = np.std(ks)\n",
        "cor_pearson_1 = cov_1_1 /(std_1_zp* std_1_ks)\n",
        "cor_pearson_1\n"
      ],
      "execution_count": 5,
      "outputs": [
        {
          "output_type": "execute_result",
          "data": {
            "text/plain": [
              "0.8874900920739158"
            ]
          },
          "metadata": {},
          "execution_count": 5
        }
      ]
    },
    {
      "cell_type": "markdown",
      "metadata": {
        "id": "rJaLarnuyRxY"
      },
      "source": [
        "## 2. Измерены значения IQ выборки студентов, обучающихся в местных технических вузах:\n",
        "## 131, 125, 115, 122, 131, 115, 107, 99, 125, 111.\n",
        "## Известно, что в генеральной совокупности IQ распределен нормально. Найдите доверительный интервал для математического ожидания с надежностью 0.95."
      ]
    },
    {
      "cell_type": "code",
      "metadata": {
        "colab": {
          "base_uri": "https://localhost:8080/",
          "height": 35
        },
        "id": "0FGA54FQC9Fq",
        "outputId": "239a6bd5-d234-4196-8a49-549d245859f2"
      },
      "source": [
        "iq = np.array([131, 125, 115, 122, 131, 115, 107, 99, 125, 111])\n",
        "M_2 = np.mean(iq)\n",
        "t_2 = 2.262\n",
        "variance_2 = np.var(iq, ddof=1)\n",
        "std_2 = np.sqrt(variance_2)\n",
        "\n",
        "con_1 = M_2 - t_2 *(std_2 / np.sqrt(len(iq)))\n",
        "con_2 = M_2 + t_2 *(std_2 / np.sqrt(len(iq)))\n",
        "\n",
        "f'({con_1} ; {con_2})'"
      ],
      "execution_count": 8,
      "outputs": [
        {
          "output_type": "execute_result",
          "data": {
            "application/vnd.google.colaboratory.intrinsic+json": {
              "type": "string"
            },
            "text/plain": [
              "'(110.55660776308164 ; 125.64339223691834)'"
            ]
          },
          "metadata": {},
          "execution_count": 8
        }
      ]
    },
    {
      "cell_type": "markdown",
      "metadata": {
        "id": "hT0rUSHhycBa"
      },
      "source": [
        "## 3. Известно, что рост футболистов в сборной распределен нормально с дисперсией генеральной совокупности, равной 25 кв.см. Объем выборки равен 27, среднее выборочное составляет 174.2. Найдите доверительный интервал для математического ожидания с надежностью 0.95."
      ]
    },
    {
      "cell_type": "code",
      "metadata": {
        "colab": {
          "base_uri": "https://localhost:8080/",
          "height": 35
        },
        "id": "5weZ3b6vIwcn",
        "outputId": "bfd3c0ca-5a05-477a-cfa0-454cc51caa3b"
      },
      "source": [
        "from scipy.stats import norm\n",
        "\n",
        "M_3 = 174.2\n",
        "std_3 = np.sqrt(25)\n",
        "Z_3 = norm.ppf(0.975)\n",
        "\n",
        "con_3_1 = M_3 - Z_3 *(std_3 / np.sqrt(27))\n",
        "con_3_2 = M_3 + Z_3 *(std_3 / np.sqrt(27))\n",
        "\n",
        "f'({con_3_1} ; {con_3_2})'"
      ],
      "execution_count": 24,
      "outputs": [
        {
          "output_type": "execute_result",
          "data": {
            "application/vnd.google.colaboratory.intrinsic+json": {
              "type": "string"
            },
            "text/plain": [
              "'(172.3140237765397 ; 176.08597622346028)'"
            ]
          },
          "metadata": {},
          "execution_count": 24
        }
      ]
    },
    {
      "cell_type": "markdown",
      "metadata": {
        "id": "QW3YY0ETyjDD"
      },
      "source": [
        "## 4. Выберите тему для проектной работы по курсу Теории вероятностей и  атематической статистики и напишите ее в комментарии к Практическому заданию.\n",
        "### 1.EDA (рассчитать описательные статистики+ графический анализ с выводами)\n",
        "### 2.Тестирование гипотезы (условия применимости того или иного критерия проверить , можно с графиками+ провести тестирование, оформить вывод)\n",
        "### 3.Линейная регрессия (условия применимости метода проверить ,можно с графиками, построить модель, исследовать на статистическую значимость модель ,можно и коэффициенты (самостоятельное изучение), коэффициент детерминации)\n",
        "### 4.Однофакторный или двухфакторный дисперсионный анализ (обязательно условия применимости исследовать, провести анализ, оформить вывод)\n",
        "Требования к оформлению : название темы, сопроводительный текст к действиям, что и почему делаете, какой вывод.\n",
        "Рекомендации по литературе : Стентон Гланц \"Медико-биологическая статистика\"\n",
        "Данные можно взять с сайта kaggle.com"
      ]
    },
    {
      "cell_type": "markdown",
      "metadata": {
        "id": "qaSdktExMRC2"
      },
      "source": [
        "нужно подумать) "
      ]
    }
  ]
}